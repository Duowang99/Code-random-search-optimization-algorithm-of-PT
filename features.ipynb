{
 "cells": [
  {
   "cell_type": "code",
   "execution_count": 1,
   "id": "432e2065",
   "metadata": {},
   "outputs": [],
   "source": [
    "import numpy as np\n",
    "import matplotlib.pyplot as plt"
   ]
  },
  {
   "cell_type": "code",
   "execution_count": 2,
   "id": "63129db9",
   "metadata": {},
   "outputs": [],
   "source": [
    "y_eq = np.load('sig_no_yes.npy',allow_pickle=True )"
   ]
  },
  {
   "cell_type": "code",
   "execution_count": 3,
   "id": "ab726d6b",
   "metadata": {},
   "outputs": [],
   "source": [
    "y_ef = np.load('ef_sig_no_yes.npy',allow_pickle=True )"
   ]
  },
  {
   "cell_type": "code",
   "execution_count": 4,
   "id": "2e0e3960",
   "metadata": {},
   "outputs": [
    {
     "data": {
      "text/plain": [
       "array([0., 1., 1., ..., 1., 1., 1.])"
      ]
     },
     "execution_count": 4,
     "metadata": {},
     "output_type": "execute_result"
    }
   ],
   "source": [
    "y_eq # 1 is deactivate"
   ]
  },
  {
   "cell_type": "code",
   "execution_count": 5,
   "id": "6de41c4e",
   "metadata": {},
   "outputs": [
    {
     "data": {
      "text/plain": [
       "4000"
      ]
     },
     "execution_count": 5,
     "metadata": {},
     "output_type": "execute_result"
    }
   ],
   "source": [
    "len( y_eq ) # 50 graphs X 80 bus stops per graph"
   ]
  },
  {
   "cell_type": "markdown",
   "id": "37f05d44",
   "metadata": {},
   "source": [
    "# 1 disFromCenter"
   ]
  },
  {
   "cell_type": "code",
   "execution_count": 6,
   "id": "06ec7482",
   "metadata": {},
   "outputs": [],
   "source": [
    "graph_dic = np.load( 'test_set.npy',allow_pickle=True ).item()\n",
    "number_graphs = 50\n",
    "graph_dic_test = {}\n",
    "for i in range(number_graphs):\n",
    "    graph_dic_test[i] = graph_dic[i]"
   ]
  },
  {
   "cell_type": "code",
   "execution_count": 7,
   "id": "a427b022",
   "metadata": {},
   "outputs": [],
   "source": [
    "disFromCenter = []\n",
    "for i in range(number_graphs):\n",
    "    for j in range(80):\n",
    "        b_p = np.array( graph_dic_test[i].bus_pos[j] )\n",
    "        disFromCenter.append( np.linalg.norm( b_p - np.array( [22.5,22.5] ) ) )\n",
    "disFromCenter = np.array( disFromCenter )"
   ]
  },
  {
   "cell_type": "code",
   "execution_count": 8,
   "id": "142cf2e8",
   "metadata": {},
   "outputs": [],
   "source": [
    "import pandas as pd\n",
    "df = pd.DataFrame( {'y_eq':y_eq,'y_ef':y_ef,'disFromCenter':disFromCenter } )"
   ]
  },
  {
   "cell_type": "code",
   "execution_count": 9,
   "id": "eb4a1467",
   "metadata": {},
   "outputs": [
    {
     "data": {
      "text/html": [
       "<div>\n",
       "<style scoped>\n",
       "    .dataframe tbody tr th:only-of-type {\n",
       "        vertical-align: middle;\n",
       "    }\n",
       "\n",
       "    .dataframe tbody tr th {\n",
       "        vertical-align: top;\n",
       "    }\n",
       "\n",
       "    .dataframe thead th {\n",
       "        text-align: right;\n",
       "    }\n",
       "</style>\n",
       "<table border=\"1\" class=\"dataframe\">\n",
       "  <thead>\n",
       "    <tr style=\"text-align: right;\">\n",
       "      <th></th>\n",
       "      <th>y_eq</th>\n",
       "      <th>y_ef</th>\n",
       "      <th>disFromCenter</th>\n",
       "    </tr>\n",
       "  </thead>\n",
       "  <tbody>\n",
       "    <tr>\n",
       "      <th>0</th>\n",
       "      <td>0.0</td>\n",
       "      <td>0.0</td>\n",
       "      <td>15.247578</td>\n",
       "    </tr>\n",
       "    <tr>\n",
       "      <th>1</th>\n",
       "      <td>1.0</td>\n",
       "      <td>0.0</td>\n",
       "      <td>10.986200</td>\n",
       "    </tr>\n",
       "    <tr>\n",
       "      <th>2</th>\n",
       "      <td>1.0</td>\n",
       "      <td>1.0</td>\n",
       "      <td>7.689482</td>\n",
       "    </tr>\n",
       "    <tr>\n",
       "      <th>3</th>\n",
       "      <td>1.0</td>\n",
       "      <td>0.0</td>\n",
       "      <td>4.095255</td>\n",
       "    </tr>\n",
       "    <tr>\n",
       "      <th>4</th>\n",
       "      <td>1.0</td>\n",
       "      <td>1.0</td>\n",
       "      <td>1.253232</td>\n",
       "    </tr>\n",
       "    <tr>\n",
       "      <th>...</th>\n",
       "      <td>...</td>\n",
       "      <td>...</td>\n",
       "      <td>...</td>\n",
       "    </tr>\n",
       "    <tr>\n",
       "      <th>3995</th>\n",
       "      <td>0.0</td>\n",
       "      <td>1.0</td>\n",
       "      <td>5.845215</td>\n",
       "    </tr>\n",
       "    <tr>\n",
       "      <th>3996</th>\n",
       "      <td>0.0</td>\n",
       "      <td>1.0</td>\n",
       "      <td>9.575195</td>\n",
       "    </tr>\n",
       "    <tr>\n",
       "      <th>3997</th>\n",
       "      <td>1.0</td>\n",
       "      <td>1.0</td>\n",
       "      <td>12.678787</td>\n",
       "    </tr>\n",
       "    <tr>\n",
       "      <th>3998</th>\n",
       "      <td>1.0</td>\n",
       "      <td>1.0</td>\n",
       "      <td>16.551031</td>\n",
       "    </tr>\n",
       "    <tr>\n",
       "      <th>3999</th>\n",
       "      <td>1.0</td>\n",
       "      <td>1.0</td>\n",
       "      <td>21.218101</td>\n",
       "    </tr>\n",
       "  </tbody>\n",
       "</table>\n",
       "<p>4000 rows × 3 columns</p>\n",
       "</div>"
      ],
      "text/plain": [
       "      y_eq  y_ef  disFromCenter\n",
       "0      0.0   0.0      15.247578\n",
       "1      1.0   0.0      10.986200\n",
       "2      1.0   1.0       7.689482\n",
       "3      1.0   0.0       4.095255\n",
       "4      1.0   1.0       1.253232\n",
       "...    ...   ...            ...\n",
       "3995   0.0   1.0       5.845215\n",
       "3996   0.0   1.0       9.575195\n",
       "3997   1.0   1.0      12.678787\n",
       "3998   1.0   1.0      16.551031\n",
       "3999   1.0   1.0      21.218101\n",
       "\n",
       "[4000 rows x 3 columns]"
      ]
     },
     "execution_count": 9,
     "metadata": {},
     "output_type": "execute_result"
    }
   ],
   "source": [
    "df"
   ]
  },
  {
   "cell_type": "code",
   "execution_count": 10,
   "id": "721d5961",
   "metadata": {},
   "outputs": [],
   "source": [
    "df = df.sort_values(by=['disFromCenter'])"
   ]
  },
  {
   "cell_type": "code",
   "execution_count": 11,
   "id": "49d64820",
   "metadata": {},
   "outputs": [],
   "source": [
    "df_0 = df.rolling(3000,min_periods=100).mean()"
   ]
  },
  {
   "cell_type": "code",
   "execution_count": 12,
   "id": "307841bc",
   "metadata": {},
   "outputs": [
    {
     "data": {
      "image/png": "[encoded data removed]",
      "text/plain": [
       "<Figure size 800x600 with 1 Axes>"
      ]
     },
     "metadata": {},
     "output_type": "display_data"
    }
   ],
   "source": [
    "plt.figure(figsize=(8,6))\n",
    "plt.plot(df['disFromCenter'],df_0['y_eq'])\n",
    "plt.xlabel('Distance from the center')\n",
    "plt.ylabel('Probability of skipping a stop')\n",
    "plt.rcParams.update({'font.size': 16})\n",
    "#plt.savefig(\"res_f4.jpg\",dpi=600)\n",
    "plt.show()"
   ]
  },
  {
   "cell_type": "markdown",
   "id": "56c0c57e",
   "metadata": {},
   "source": [
    "# 2 "
   ]
  },
  {
   "cell_type": "code",
   "execution_count": 13,
   "id": "e200f83e",
   "metadata": {},
   "outputs": [],
   "source": [
    "graph_dic = np.load( 'test_set.npy',allow_pickle=True ).item()\n",
    "number_graphs = 50\n",
    "graph_dic_test = {}\n",
    "for i in range(number_graphs):\n",
    "    graph_dic_test[i] = graph_dic[i]"
   ]
  },
  {
   "cell_type": "code",
   "execution_count": 14,
   "id": "f1839b03",
   "metadata": {},
   "outputs": [
    {
     "data": {
      "text/plain": [
       "[21.022936920722916,\n",
       " 23.239375074541403,\n",
       " 21.61203700201896,\n",
       " 21.507084934903194,\n",
       " 21.494041634706647,\n",
       " 22.143492644002823,\n",
       " 22.548252299175076,\n",
       " 21.979797118521034]"
      ]
     },
     "execution_count": 14,
     "metadata": {},
     "output_type": "execute_result"
    }
   ],
   "source": [
    "graph_dic[0].avg_frequency()"
   ]
  },
  {
   "cell_type": "code",
   "execution_count": 15,
   "id": "50d441e0",
   "metadata": {},
   "outputs": [],
   "source": [
    "list_WT = []\n",
    "for i in range(number_graphs):\n",
    "    for j in range( 80 ):\n",
    "        index_f = j//10\n",
    "        list_WT.append( graph_dic[i].avg_frequency()[ index_f ] )"
   ]
  },
  {
   "cell_type": "code",
   "execution_count": 16,
   "id": "03898566",
   "metadata": {},
   "outputs": [
    {
     "data": {
      "text/plain": [
       "4000"
      ]
     },
     "execution_count": 16,
     "metadata": {},
     "output_type": "execute_result"
    }
   ],
   "source": [
    "len( list_WT )"
   ]
  },
  {
   "cell_type": "code",
   "execution_count": 17,
   "id": "db6eb255",
   "metadata": {},
   "outputs": [],
   "source": [
    "df_1 = pd.DataFrame( {'y_eq':y_eq,'y_ef':y_ef,'WT':list_WT } )"
   ]
  },
  {
   "cell_type": "code",
   "execution_count": 18,
   "id": "f053025f",
   "metadata": {},
   "outputs": [
    {
     "data": {
      "text/html": [
       "<div>\n",
       "<style scoped>\n",
       "    .dataframe tbody tr th:only-of-type {\n",
       "        vertical-align: middle;\n",
       "    }\n",
       "\n",
       "    .dataframe tbody tr th {\n",
       "        vertical-align: top;\n",
       "    }\n",
       "\n",
       "    .dataframe thead th {\n",
       "        text-align: right;\n",
       "    }\n",
       "</style>\n",
       "<table border=\"1\" class=\"dataframe\">\n",
       "  <thead>\n",
       "    <tr style=\"text-align: right;\">\n",
       "      <th></th>\n",
       "      <th>y_eq</th>\n",
       "      <th>y_ef</th>\n",
       "      <th>WT</th>\n",
       "    </tr>\n",
       "  </thead>\n",
       "  <tbody>\n",
       "    <tr>\n",
       "      <th>0</th>\n",
       "      <td>0.0</td>\n",
       "      <td>0.0</td>\n",
       "      <td>21.022937</td>\n",
       "    </tr>\n",
       "    <tr>\n",
       "      <th>1</th>\n",
       "      <td>1.0</td>\n",
       "      <td>0.0</td>\n",
       "      <td>21.022937</td>\n",
       "    </tr>\n",
       "    <tr>\n",
       "      <th>2</th>\n",
       "      <td>1.0</td>\n",
       "      <td>1.0</td>\n",
       "      <td>21.022937</td>\n",
       "    </tr>\n",
       "    <tr>\n",
       "      <th>3</th>\n",
       "      <td>1.0</td>\n",
       "      <td>0.0</td>\n",
       "      <td>21.022937</td>\n",
       "    </tr>\n",
       "    <tr>\n",
       "      <th>4</th>\n",
       "      <td>1.0</td>\n",
       "      <td>1.0</td>\n",
       "      <td>21.022937</td>\n",
       "    </tr>\n",
       "    <tr>\n",
       "      <th>...</th>\n",
       "      <td>...</td>\n",
       "      <td>...</td>\n",
       "      <td>...</td>\n",
       "    </tr>\n",
       "    <tr>\n",
       "      <th>3995</th>\n",
       "      <td>0.0</td>\n",
       "      <td>1.0</td>\n",
       "      <td>21.811880</td>\n",
       "    </tr>\n",
       "    <tr>\n",
       "      <th>3996</th>\n",
       "      <td>0.0</td>\n",
       "      <td>1.0</td>\n",
       "      <td>21.811880</td>\n",
       "    </tr>\n",
       "    <tr>\n",
       "      <th>3997</th>\n",
       "      <td>1.0</td>\n",
       "      <td>1.0</td>\n",
       "      <td>21.811880</td>\n",
       "    </tr>\n",
       "    <tr>\n",
       "      <th>3998</th>\n",
       "      <td>1.0</td>\n",
       "      <td>1.0</td>\n",
       "      <td>21.811880</td>\n",
       "    </tr>\n",
       "    <tr>\n",
       "      <th>3999</th>\n",
       "      <td>1.0</td>\n",
       "      <td>1.0</td>\n",
       "      <td>21.811880</td>\n",
       "    </tr>\n",
       "  </tbody>\n",
       "</table>\n",
       "<p>4000 rows × 3 columns</p>\n",
       "</div>"
      ],
      "text/plain": [
       "      y_eq  y_ef         WT\n",
       "0      0.0   0.0  21.022937\n",
       "1      1.0   0.0  21.022937\n",
       "2      1.0   1.0  21.022937\n",
       "3      1.0   0.0  21.022937\n",
       "4      1.0   1.0  21.022937\n",
       "...    ...   ...        ...\n",
       "3995   0.0   1.0  21.811880\n",
       "3996   0.0   1.0  21.811880\n",
       "3997   1.0   1.0  21.811880\n",
       "3998   1.0   1.0  21.811880\n",
       "3999   1.0   1.0  21.811880\n",
       "\n",
       "[4000 rows x 3 columns]"
      ]
     },
     "execution_count": 18,
     "metadata": {},
     "output_type": "execute_result"
    }
   ],
   "source": [
    "df_1"
   ]
  },
  {
   "cell_type": "code",
   "execution_count": 19,
   "id": "8e2c8af9",
   "metadata": {},
   "outputs": [],
   "source": [
    "df_1 = df_1.sort_values(by=['WT'])"
   ]
  },
  {
   "cell_type": "code",
   "execution_count": 27,
   "id": "b2f1517d",
   "metadata": {},
   "outputs": [
    {
     "data": {
      "text/plain": [
       "400"
      ]
     },
     "execution_count": 27,
     "metadata": {},
     "output_type": "execute_result"
    }
   ],
   "source": [
    "len( set( list( df_1['WT'])) )"
   ]
  },
  {
   "cell_type": "code",
   "execution_count": 37,
   "id": "b29e708e",
   "metadata": {},
   "outputs": [],
   "source": [
    "df_2 = df_1.rolling(3000,min_periods=100).mean()"
   ]
  },
  {
   "cell_type": "code",
   "execution_count": 42,
   "id": "e4a657e4",
   "metadata": {},
   "outputs": [
    {
     "data": {
      "image/png": "[encoded data removed]",
      "text/plain": [
       "<Figure size 800x600 with 1 Axes>"
      ]
     },
     "metadata": {},
     "output_type": "display_data"
    }
   ],
   "source": [
    "plt.figure(figsize=(8,6))\n",
    "plt.plot(df_1['WT'],df_2['y_eq'],label='eq')\n",
    "plt.plot(df_1['WT'],df_2['y_ef'],label='ef')\n",
    "plt.xlabel('Average waiting time(mins)')\n",
    "plt.ylabel('Probability of skipping a stop')\n",
    "plt.rcParams.update({'font.size': 16})\n",
    "#plt.savefig(\"res_f4.jpg\",dpi=600)\n",
    "plt.legend()\n",
    "plt.show()"
   ]
  },
  {
   "cell_type": "code",
   "execution_count": null,
   "id": "3846d5d7",
   "metadata": {},
   "outputs": [],
   "source": []
  },
  {
   "cell_type": "code",
   "execution_count": null,
   "id": "811fbf9b",
   "metadata": {},
   "outputs": [],
   "source": []
  },
  {
   "cell_type": "code",
   "execution_count": null,
   "id": "2de8c96a",
   "metadata": {},
   "outputs": [],
   "source": []
  }
 ],
 "metadata": {
  "kernelspec": {
   "display_name": "Python 3 (ipykernel)",
   "language": "python",
   "name": "python3"
  },
  "language_info": {
   "codemirror_mode": {
    "name": "ipython",
    "version": 3
   },
   "file_extension": ".py",
   "mimetype": "text/x-python",
   "name": "python",
   "nbconvert_exporter": "python",
   "pygments_lexer": "ipython3",
   "version": "3.9.13"
  }
 },
 "nbformat": 4,
 "nbformat_minor": 5
}
