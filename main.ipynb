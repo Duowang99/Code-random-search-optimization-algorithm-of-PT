{
 "cells": [
  {
   "cell_type": "markdown",
   "id": "90516a78",
   "metadata": {},
   "source": [
    "训练集=测试集，会不会比随即好？"
   ]
  },
  {
   "cell_type": "code",
   "execution_count": 1,
   "id": "6d584713",
   "metadata": {},
   "outputs": [],
   "source": [
    "# import agent\n",
    "# import environment\n",
    "# import runner\n",
    "import graph\n",
    "import bus_line\n",
    "import numpy as np\n",
    "import networkx as nx\n",
    "import sys\n",
    "import random\n",
    "import pylab \n",
    "import matplotlib.pyplot as plt\n",
    "import math"
   ]
  },
  {
   "cell_type": "code",
   "execution_count": 2,
   "id": "613a3aeb",
   "metadata": {},
   "outputs": [],
   "source": [
    "import random"
   ]
  },
  {
   "cell_type": "markdown",
   "id": "e0b59eaf",
   "metadata": {},
   "source": [
    "## polulation density：\n",
    "$$ K(r) = K_0 e^{-b*r} $$\n",
    "where in Beijing on 2010, K_0 = 36000 and b = 0.01"
   ]
  },
  {
   "cell_type": "code",
   "execution_count": 3,
   "id": "ff1064da",
   "metadata": {},
   "outputs": [],
   "source": [
    "def polulation_density_from_center(r):\n",
    "    return 36000*np.exp(-0.01*r)\n",
    "\n",
    "center_node = [ i+40 for i in range(0,100) ]\n",
    "center_pos = np.reshape([[ (i*5,j*5) for j in range(10) ] for i in range(10)],(100,2))\n",
    "\n",
    "center_polulation = []\n",
    "for i in range(len(center_node)):\n",
    "    r = np.linalg.norm(center_pos[i]-np.array([22.5,22.5]))\n",
    "    center_polulation.append( polulation_density_from_center(r) )"
   ]
  },
  {
   "cell_type": "code",
   "execution_count": 4,
   "id": "04a429e0",
   "metadata": {},
   "outputs": [],
   "source": [
    "def dis_from_center(x):\n",
    "    return x/8 + 3\n",
    "#\n",
    "def findAngle( x1, y1, x2, y2):\n",
    "    angle = 0.0\n",
    "    dx = x2 - x1\n",
    "    dy = y2 - y1\n",
    "    if x2 == x1:\n",
    "        if y2 == y1 :\n",
    "            angle = 0.0\n",
    "        elif y2 < y1 :\n",
    "            angle = 3.0 * math.pi / 2.0\n",
    "        else:\n",
    "            angle = math.pi / 2.0\n",
    "    elif y1 == y2:\n",
    "        if x2 == x1 :\n",
    "            angle = 0.0\n",
    "        elif x2 < x1 :\n",
    "            angle =  math.pi \n",
    "        else:\n",
    "            angle = 0.0\n",
    "    elif x2 > x1 and y2 > y1: #1象限\n",
    "        angle = math.atan(dx / dy)\n",
    "    elif x2 > x1 and y2 < y1 :#4象限\n",
    "        angle = 2.0 * math.pi - math.atan(-dy / dx)\n",
    "    elif x2 < x1 and y2 < y1 :#3象限\n",
    "        angle = math.pi + math.atan( dy / dx)\n",
    "    elif x2 < x1 and y2 > y1 :#2象限\n",
    "        angle = math.pi - math.atan(dy / -dx)\n",
    "    return angle\n",
    "\n",
    "def create_bus_line( start_bus_stop,  nb_bus_stops):\n",
    "    bus_line = [start_bus_stop]\n",
    "    angle_initial = findAngle(start_bus_stop[0],start_bus_stop[1],22.5,22.5)\n",
    "    angle_0 = np.random.normal( angle_initial,math.pi/8 )\n",
    "    for i in range(nb_bus_stops-1):\n",
    "        if i == 0:\n",
    "            old_bus_stop = bus_line[-1]\n",
    "            distance = dis_from_center( np.linalg.norm(old_bus_stop-np.array([22.5,22.5])) )\n",
    "            new_bus_stop = old_bus_stop+np.array( [distance*math.cos(angle_0),distance*math.sin(angle_0)] )\n",
    "            bus_line.append( new_bus_stop )\n",
    "        else:\n",
    "            angle_0 = np.random.normal( angle_0,math.pi/8 )\n",
    "            old_bus_stop = bus_line[-1]     \n",
    "            distance = dis_from_center( np.linalg.norm(old_bus_stop-np.array([22.5,22.5])) )\n",
    "            new_bus_stop = old_bus_stop+np.array( [distance*math.cos(angle_0),distance*math.sin(angle_0)] )\n",
    "            bus_line.append( new_bus_stop )\n",
    "    return np.array( bus_line )\n",
    "\n",
    "def is_correct_line(line):\n",
    "    for i in range(len(line)):\n",
    "        if line[i][0]<0 or line[i][0]>45 or line[i][1]<0 or line[i][1]>45:\n",
    "            return False\n",
    "    return True"
   ]
  },
  {
   "cell_type": "markdown",
   "id": "ee2849d8",
   "metadata": {},
   "source": [
    "## 1 CREATE graph_dic"
   ]
  },
  {
   "cell_type": "code",
   "execution_count": 5,
   "id": "d64ba2d1",
   "metadata": {},
   "outputs": [],
   "source": [
    "# graph_dic = {}\n",
    "\n",
    "# for graph_ in range(200):\n",
    "#     line_list = []\n",
    "#     while len(line_list) < 8:\n",
    "#         line = create_bus_line( np.array( [random.uniform(0,45),random.uniform(0,45)] ), 10 )\n",
    "#         if is_correct_line(line):\n",
    "#             line_list.append( line )\n",
    "\n",
    "#     line_1 = line_list[0]\n",
    "#     line_2 = line_list[1]\n",
    "#     line_3 = line_list[2]\n",
    "#     line_4 = line_list[3]\n",
    "#     line_5 = line_list[4]\n",
    "#     line_6 = line_list[5]\n",
    "#     line_7 = line_list[6]\n",
    "#     line_8 = line_list[7]\n",
    "#     #create bus_line\n",
    "#     bus_line_1 = bus_line.Bus_line( 1,1, [i for i in range(10)],     dict( zip([i for i in range(10)],     line_1.tolist())) )\n",
    "#     bus_line_2 = bus_line.Bus_line( 2,1, [i for i in range(10,20)],dict( zip([i for i in range(10,20)], line_2.tolist())) )\n",
    "#     bus_line_3 = bus_line.Bus_line( 3,1, [i for i in range(20,30)],dict( zip([i for i in range(20,30)], line_3.tolist())) )\n",
    "#     bus_line_4 = bus_line.Bus_line( 4,1, [i for i in range(30,40)],dict( zip([i for i in range(30,40)], line_4.tolist())) )\n",
    "#     bus_line_5 = bus_line.Bus_line( 5,1, [i for i in range(40,50)],dict( zip([i for i in range(40,50)], line_5.tolist())) )\n",
    "#     bus_line_6 = bus_line.Bus_line( 6,1, [i for i in range(50,60)],dict( zip([i for i in range(50,60)], line_6.tolist())) )\n",
    "#     bus_line_7 = bus_line.Bus_line( 7,1, [i for i in range(60,70)],dict( zip([i for i in range(60,70)], line_7.tolist())) )\n",
    "#     bus_line_8 = bus_line.Bus_line( 8,1, [i for i in range(70,80)],dict( zip([i for i in range(70,80)], line_8.tolist())) )\n",
    "\n",
    "    \n",
    "    \n",
    "#     line_all = np.vstack((line_1,line_2,line_3,line_4,line_5,line_6,line_7,line_8))\n",
    "\n",
    "#     list_connection = []\n",
    "#     for i in range( np.shape( line_all )[0]):\n",
    "#         for j in range(i,np.shape( line_all )[0]):\n",
    "#             if j != i and np.linalg.norm( line_all[i]-line_all[j] ) < 3:\n",
    "#                 list_connection.append( [i,j])\n",
    "    \n",
    "#     list_waiting_time = []\n",
    "#     list_waiting_time.append( bus_line_1.waiting_time ) \n",
    "#     list_waiting_time.append( bus_line_2.waiting_time )\n",
    "#     list_waiting_time.append( bus_line_3.waiting_time )\n",
    "#     list_waiting_time.append( bus_line_4.waiting_time )\n",
    "#     list_waiting_time.append( bus_line_5.waiting_time )          \n",
    "#     list_waiting_time.append( bus_line_6.waiting_time )     \n",
    "#     list_waiting_time.append( bus_line_7.waiting_time )  \n",
    "#     list_waiting_time.append( bus_line_8.waiting_time )  \n",
    "#     #create graph\n",
    "#     g  = graph.Graph( list_connection, list_waiting_time )\n",
    "#     #add each bus_line\n",
    "#     g.add_bus_line(bus_line_1)\n",
    "#     g.add_bus_line(bus_line_2)\n",
    "#     g.add_bus_line(bus_line_3)\n",
    "#     g.add_bus_line(bus_line_4)\n",
    "#     g.add_bus_line(bus_line_5)\n",
    "#     g.add_bus_line(bus_line_6)    \n",
    "#     g.add_bus_line(bus_line_7)  \n",
    "#     g.add_bus_line(bus_line_8)  \n",
    "#     #add connection between bus_line \n",
    "#     for connection in list_connection:\n",
    "#         travel_time = np.linalg.norm(np.array( g.all_pos[connection[0]] )-np.array( g.all_pos[connection[1]] ))*100/300\n",
    "#         g.add_connection( [ ( connection[0],connection[1],travel_time+list_waiting_time[connection[1]//10 ])] ) \n",
    "#         g.add_connection([(connection[1],connection[0],travel_time+list_waiting_time[connection[0]//10])]) \n",
    "\n",
    "#     graph_dic[graph_]= g\n",
    "\n",
    "# np.save( 'test_set.npy',graph_dic )"
   ]
  },
  {
   "cell_type": "code",
   "execution_count": 6,
   "id": "adb8b508",
   "metadata": {},
   "outputs": [],
   "source": [
    "# graph_dic = np.load( 'train_set.npy',allow_pickle=True ).item()"
   ]
  },
  {
   "cell_type": "code",
   "execution_count": 7,
   "id": "c0821333",
   "metadata": {},
   "outputs": [],
   "source": [
    "# graph_dic1 = np.load( 'test_set.npy',allow_pickle=True ).item()"
   ]
  },
  {
   "cell_type": "code",
   "execution_count": 8,
   "id": "20ef1a14",
   "metadata": {},
   "outputs": [],
   "source": [
    "# graph_dic_0 = np.load( 'train_set.npy',allow_pickle=True ).item()\n",
    "# graph_dic_train = {}\n",
    "\n",
    "# train_size = 7500\n",
    "# before = 7250\n",
    "# #每250保存一个模型\n",
    "# for i in range(before,9000):\n",
    "#     if i < train_size :\n",
    "#         graph_dic_train[i-before] = graph_dic1[i]"
   ]
  },
  {
   "cell_type": "code",
   "execution_count": 9,
   "id": "793bba42",
   "metadata": {},
   "outputs": [],
   "source": [
    "graph_dic = np.load( 'test_set.npy',allow_pickle=True ).item()\n",
    "# graph_dic = np.load( 'test_set_1.npy',allow_pickle=True ).item()\n",
    "graph_dic_train = {}\n",
    "graph_dic_test = {}\n",
    "\n",
    "number_graphs = 50 #50\n",
    "number_trees = 20\n",
    "\n",
    "\n",
    "for i in range(number_graphs):\n",
    "    for j in range(number_trees):\n",
    "        graph_dic_test[i*number_trees+j] = graph_dic[i]\n",
    "\n",
    "\n",
    "\n",
    "# for i in range(50):\n",
    "#     graph_dic_test[i] = graph_dic[3]\n",
    "\n",
    "# for i in range(200):\n",
    "# #     j = np.random.randint(10)\n",
    "#     if i<100:\n",
    "#         graph_dic_train[i] = graph_dic[i]\n",
    "#     else:\n",
    "#         graph_dic_train[i] = graph_dic[i-100]\n",
    "# for i in range(10):\n",
    "#     graph_dic_test[i] = graph_dic[1]"
   ]
  },
  {
   "cell_type": "code",
   "execution_count": 10,
   "id": "18c141ff",
   "metadata": {},
   "outputs": [],
   "source": [
    "# graph_dic_test[1].show()"
   ]
  },
  {
   "cell_type": "markdown",
   "id": "c0bc26be",
   "metadata": {},
   "source": [
    "## Feature"
   ]
  },
  {
   "cell_type": "code",
   "execution_count": 11,
   "id": "e73d21e0",
   "metadata": {},
   "outputs": [],
   "source": [
    "# g = graph_dic_train[1]\n",
    "# g.add_center()\n",
    "# g.add_edge_between_centers()\n",
    "# g.add_edge_between_centerAnsBusStation()\n",
    "# feature = []\n",
    "# for i in range(40):\n",
    "#     list_near_stop_i = []\n",
    "#     feature_i = []\n",
    "#     for j in range(40,140):\n",
    "#         if np.linalg.norm( np.array(g.all_pos[i])-np.array(g.all_pos[j]) ) < 15:\n",
    "#             list_near_stop_i.append( j )\n",
    "#     for j in list_near_stop_i:\n",
    "#         if j <=90:\n",
    "#             feature_i.append(1000)\n",
    "#         else:\n",
    "#             feature_i.append(10)\n",
    "#     feature.append( np.sum(feature_i) )"
   ]
  },
  {
   "cell_type": "markdown",
   "id": "38846ca7",
   "metadata": {},
   "source": [
    "## 2 Train"
   ]
  },
  {
   "cell_type": "code",
   "execution_count": 12,
   "id": "f9ee794c",
   "metadata": {},
   "outputs": [],
   "source": [
    "import agent\n",
    "import environment\n",
    "import runner"
   ]
  },
  {
   "cell_type": "code",
   "execution_count": 13,
   "id": "e51585c1",
   "metadata": {},
   "outputs": [],
   "source": [
    "# def train():\n",
    "    \n",
    "#     #initial parameters\n",
    "#     lr = 0.001\n",
    "\n",
    "    \n",
    "#     #initial agent class and environment class\n",
    "#     agent_class = agent.Agent(graph_dic_train, lr,'train')\n",
    "#     env_class = environment.Environment(graph_dic_train)\n",
    "\n",
    "#     print(\"Running a single instance simulation...\")\n",
    "#     my_runner = runner.Runner(env_class, agent_class,'train')\n",
    "#     test_list_min_acc = my_runner.loop(len( graph_dic_train ), 1000)\n",
    "        \n",
    "#         #print(\"Obtained a final reward of {}\".format(final_reward))\n",
    "#     agent_class.save_model()\n",
    "#     return test_list_min_acc"
   ]
  },
  {
   "cell_type": "code",
   "execution_count": 14,
   "id": "c6ecd196",
   "metadata": {},
   "outputs": [],
   "source": [
    "# result_old = train()"
   ]
  },
  {
   "cell_type": "markdown",
   "id": "9ef298dc",
   "metadata": {},
   "source": [
    "## 3 Test"
   ]
  },
  {
   "cell_type": "code",
   "execution_count": 15,
   "id": "3f5c9771",
   "metadata": {},
   "outputs": [],
   "source": [
    "# import agent\n",
    "# import environment\n",
    "# import runner"
   ]
  },
  {
   "cell_type": "code",
   "execution_count": 16,
   "id": "01ab4d3a",
   "metadata": {},
   "outputs": [],
   "source": [
    "# def RLtest():\n",
    "    \n",
    "#     #initial parameters\n",
    "#     lr = 0.001\n",
    "\n",
    "    \n",
    "#     #initial agent class and environment class\n",
    "#     agent_class = agent.Agent(graph_dic_test, lr, 'RLtest')\n",
    "#     env_class = environment.Environment(graph_dic_test)\n",
    "\n",
    "#     print(\"Running a single instance simulation...\")\n",
    "#     my_runner = runner.Runner(env_class, agent_class,'RLtest')\n",
    "#     test_list_min_acc = my_runner.loop(len( graph_dic_test ), 1000)\n",
    "        \n",
    "#         #print(\"Obtained a final reward of {}\".format(final_reward))\n",
    "# #         agent_class.save_model()\n",
    "#     return test_list_min_acc"
   ]
  },
  {
   "cell_type": "code",
   "execution_count": 17,
   "id": "07d4f55e",
   "metadata": {},
   "outputs": [],
   "source": [
    "# result = RLtest()"
   ]
  },
  {
   "cell_type": "code",
   "execution_count": 18,
   "id": "f835a8d0",
   "metadata": {},
   "outputs": [],
   "source": [
    "# def RDtest(i,number_trees):\n",
    "    \n",
    "#     #initial parameters\n",
    "#     lr = 0.001\n",
    "    \n",
    "#     test_set = graph_dic_test[i*number_trees:(i+1)*number_trees]\n",
    "    \n",
    "    \n",
    "#     #initial agent class and environment class\n",
    "#     agent_class = agent.Agent(test_set, lr, 'RDtest')\n",
    "#     env_class = environment.Environment(test_set)\n",
    "\n",
    "#     print(\"Running a single instance simulation...\")\n",
    "#     my_runner = runner.Runner(env_class, agent_class,'RDtest')\n",
    "#     test_list_min_acc = my_runner.loop(len( test_set ), 1000)\n",
    "        \n",
    "#         #print(\"Obtained a final reward of {}\".format(final_reward))\n",
    "# #         agent_class.save_model()\n",
    "#     return test_list_min_acc"
   ]
  },
  {
   "cell_type": "code",
   "execution_count": 19,
   "id": "1ba7830f",
   "metadata": {},
   "outputs": [],
   "source": [
    "import time\n",
    "import multiprocessing\n",
    "\n",
    "def RDtest(i):\n",
    "    \n",
    "    #initial parameters\n",
    "    lr = 0.001\n",
    "    test_set = {}\n",
    "    for j in range(i*number_trees,(i+1)*number_trees):\n",
    "        test_set[j-i*number_trees] = graph_dic_test[j]\n",
    "    \n",
    "    \n",
    "    #initial agent class and environment class\n",
    "    agent_class = agent.Agent(test_set, lr, 'RDtest')\n",
    "    env_class = environment.Environment(test_set)\n",
    "\n",
    "    print(\"Running a single instance simulation...\")\n",
    "    my_runner = runner.Runner(env_class, agent_class,'RDtest')\n",
    "    test_list_min_acc = my_runner.loop(len( test_set ), 1000)\n",
    "        \n",
    "        #print(\"Obtained a final reward of {}\".format(final_reward))\n",
    "#         agent_class.save_model()\n",
    "    return test_list_min_acc"
   ]
  },
  {
   "cell_type": "code",
   "execution_count": 20,
   "id": "b0b3f364",
   "metadata": {
    "scrolled": true
   },
   "outputs": [
    {
     "name": "stdout",
     "output_type": "stream",
     "text": [
      "Running a single instance simulation...Running a single instance simulation...Running a single instance simulation...Running a single instance simulation...Running a single instance simulation...Running a single instance simulation...\n",
      "\n",
      "\n",
      "Running a single instance simulation...Running a single instance simulation...\n",
      "\n",
      "\n",
      "Running a single instance simulation...Running a single instance simulation... -> epoch : 0Running a single instance simulation... -> epoch : 0Running a single instance simulation...Running a single instance simulation...Running a single instance simulation...Running a single instance simulation... -> epoch : 0 -> epoch : 0\n",
      "\n",
      " -> epoch : 0\n",
      " -> epoch : 0\n",
      "\n",
      "\n",
      "Running a single instance simulation...\n",
      "\n",
      "\n",
      "\n",
      "\n",
      "\n",
      "\n",
      " -> epoch : 0\n",
      " -> epoch : 0 -> epoch : 0\n",
      " -> epoch : 0Running a single instance simulation... -> epoch : 0\n",
      " -> epoch : 0 -> epoch : 0Running a single instance simulation... -> epoch : 0 -> epoch : 0\n",
      "\n",
      "\n",
      "\n",
      "\n",
      " -> epoch : 0\n",
      "\n",
      "Running a single instance simulation...\n",
      "\n",
      "Running a single instance simulation...Running a single instance simulation...\n",
      "\n",
      "\n",
      "Running a single instance simulation... -> epoch : 0Running a single instance simulation...\n",
      "Running a single instance simulation...\n",
      " -> epoch : 0\n",
      "Running a single instance simulation...Running a single instance simulation...\n",
      "\n",
      "\n",
      " -> epoch : 0 -> epoch : 0\n",
      " -> epoch : 0\n",
      "\n",
      "Running a single instance simulation...\n",
      " -> epoch : 0Running a single instance simulation... -> epoch : 0Running a single instance simulation...\n",
      "Running a single instance simulation...Running a single instance simulation...\n",
      " -> epoch : 0\n",
      "Running a single instance simulation... -> epoch : 0\n",
      " -> epoch : 0\n",
      "\n",
      "\n",
      "\n",
      "Running a single instance simulation...\n",
      "\n",
      "\n",
      "Running a single instance simulation...Running a single instance simulation...Running a single instance simulation...Running a single instance simulation...\n",
      " -> epoch : 0\n",
      "\n",
      "Running a single instance simulation...Running a single instance simulation... -> epoch : 0 -> epoch : 0Running a single instance simulation...\n",
      " -> epoch : 0Running a single instance simulation...Running a single instance simulation...Running a single instance simulation...Running a single instance simulation... -> epoch : 0\n",
      "\n",
      "Running a single instance simulation...\n",
      "\n",
      "\n",
      " -> epoch : 0Running a single instance simulation...\n",
      "\n",
      "\n",
      "\n",
      "Running a single instance simulation...\n",
      "\n",
      " -> epoch : 0\n",
      "Running a single instance simulation...\n",
      "\n",
      "\n",
      "\n",
      " -> epoch : 0 -> epoch : 0\n",
      " -> epoch : 0 -> epoch : 0\n",
      " -> epoch : 0\n",
      " -> epoch : 0\n",
      " -> epoch : 0\n",
      " -> epoch : 0 -> epoch : 0\n",
      " -> epoch : 0 -> epoch : 0\n",
      "\n",
      "\n",
      " -> epoch : 0\n",
      "\n",
      "\n",
      "Running a single instance simulation... -> epoch : 0 -> epoch : 0\n",
      "\n",
      "\n",
      "\n",
      " -> epoch : 0\n",
      "\n",
      "\n",
      "\n",
      "\n",
      "\n",
      " -> epoch : 0\n",
      "Running a single instance simulation...\n",
      " -> epoch : 0\n"
     ]
    },
    {
     "name": "stderr",
     "output_type": "stream",
     "text": [
      "/home/dwang/Desktop/PHD/Top10_ACC_8lines/graph.py:176: FutureWarning: adjacency_matrix will return a scipy.sparse array instead of a matrix in Networkx 3.0.\n",
      "  return nx.adjacency_matrix(self.g)\n",
      "/home/dwang/Desktop/PHD/Top10_ACC_8lines/graph.py:176: FutureWarning: adjacency_matrix will return a scipy.sparse array instead of a matrix in Networkx 3.0.\n",
      "  return nx.adjacency_matrix(self.g)\n",
      "/home/dwang/Desktop/PHD/Top10_ACC_8lines/graph.py:176: FutureWarning: adjacency_matrix will return a scipy.sparse array instead of a matrix in Networkx 3.0.\n",
      "  return nx.adjacency_matrix(self.g)\n",
      "/home/dwang/Desktop/PHD/Top10_ACC_8lines/graph.py:176: FutureWarning: adjacency_matrix will return a scipy.sparse array instead of a matrix in Networkx 3.0.\n",
      "  return nx.adjacency_matrix(self.g)\n",
      "/home/dwang/Desktop/PHD/Top10_ACC_8lines/graph.py:176: FutureWarning: adjacency_matrix will return a scipy.sparse array instead of a matrix in Networkx 3.0.\n",
      "  return nx.adjacency_matrix(self.g)\n",
      "/home/dwang/Desktop/PHD/Top10_ACC_8lines/graph.py:176: FutureWarning: adjacency_matrix will return a scipy.sparse array instead of a matrix in Networkx 3.0.\n",
      "  return nx.adjacency_matrix(self.g)\n",
      "/home/dwang/Desktop/PHD/Top10_ACC_8lines/graph.py:176: FutureWarning: adjacency_matrix will return a scipy.sparse array instead of a matrix in Networkx 3.0.\n",
      "  return nx.adjacency_matrix(self.g)\n",
      "/home/dwang/Desktop/PHD/Top10_ACC_8lines/graph.py:176: FutureWarning: adjacency_matrix will return a scipy.sparse array instead of a matrix in Networkx 3.0.\n",
      "  return nx.adjacency_matrix(self.g)\n",
      "/home/dwang/Desktop/PHD/Top10_ACC_8lines/graph.py:176: FutureWarning: adjacency_matrix will return a scipy.sparse array instead of a matrix in Networkx 3.0.\n",
      "  return nx.adjacency_matrix(self.g)\n",
      "/home/dwang/Desktop/PHD/Top10_ACC_8lines/graph.py:176: FutureWarning: adjacency_matrix will return a scipy.sparse array instead of a matrix in Networkx 3.0.\n",
      "  return nx.adjacency_matrix(self.g)\n",
      "/home/dwang/Desktop/PHD/Top10_ACC_8lines/graph.py:176: FutureWarning: adjacency_matrix will return a scipy.sparse array instead of a matrix in Networkx 3.0.\n",
      "  return nx.adjacency_matrix(self.g)\n",
      "/home/dwang/Desktop/PHD/Top10_ACC_8lines/graph.py:176: FutureWarning: adjacency_matrix will return a scipy.sparse array instead of a matrix in Networkx 3.0.\n",
      "  return nx.adjacency_matrix(self.g)\n",
      "/home/dwang/Desktop/PHD/Top10_ACC_8lines/graph.py:176: FutureWarning: adjacency_matrix will return a scipy.sparse array instead of a matrix in Networkx 3.0.\n",
      "  return nx.adjacency_matrix(self.g)\n",
      "/home/dwang/Desktop/PHD/Top10_ACC_8lines/graph.py:176: FutureWarning: adjacency_matrix will return a scipy.sparse array instead of a matrix in Networkx 3.0.\n",
      "  return nx.adjacency_matrix(self.g)\n",
      "/home/dwang/Desktop/PHD/Top10_ACC_8lines/graph.py:176: FutureWarning: adjacency_matrix will return a scipy.sparse array instead of a matrix in Networkx 3.0.\n",
      "  return nx.adjacency_matrix(self.g)\n",
      "/home/dwang/Desktop/PHD/Top10_ACC_8lines/graph.py:176: FutureWarning: adjacency_matrix will return a scipy.sparse array instead of a matrix in Networkx 3.0.\n",
      "  return nx.adjacency_matrix(self.g)\n",
      "/home/dwang/Desktop/PHD/Top10_ACC_8lines/graph.py:176: FutureWarning: adjacency_matrix will return a scipy.sparse array instead of a matrix in Networkx 3.0.\n",
      "  return nx.adjacency_matrix(self.g)\n",
      "/home/dwang/Desktop/PHD/Top10_ACC_8lines/graph.py:176: FutureWarning: adjacency_matrix will return a scipy.sparse array instead of a matrix in Networkx 3.0.\n",
      "  return nx.adjacency_matrix(self.g)\n",
      "/home/dwang/Desktop/PHD/Top10_ACC_8lines/graph.py:176: FutureWarning: adjacency_matrix will return a scipy.sparse array instead of a matrix in Networkx 3.0.\n",
      "  return nx.adjacency_matrix(self.g)\n",
      "/home/dwang/Desktop/PHD/Top10_ACC_8lines/graph.py:176: FutureWarning: adjacency_matrix will return a scipy.sparse array instead of a matrix in Networkx 3.0.\n",
      "  return nx.adjacency_matrix(self.g)\n",
      "/home/dwang/Desktop/PHD/Top10_ACC_8lines/graph.py:176: FutureWarning: adjacency_matrix will return a scipy.sparse array instead of a matrix in Networkx 3.0.\n",
      "  return nx.adjacency_matrix(self.g)\n",
      "/home/dwang/Desktop/PHD/Top10_ACC_8lines/graph.py:176: FutureWarning: adjacency_matrix will return a scipy.sparse array instead of a matrix in Networkx 3.0.\n",
      "  return nx.adjacency_matrix(self.g)\n",
      "/home/dwang/Desktop/PHD/Top10_ACC_8lines/graph.py:176: FutureWarning: adjacency_matrix will return a scipy.sparse array instead of a matrix in Networkx 3.0.\n",
      "  return nx.adjacency_matrix(self.g)\n",
      "/home/dwang/Desktop/PHD/Top10_ACC_8lines/graph.py:176: FutureWarning: adjacency_matrix will return a scipy.sparse array instead of a matrix in Networkx 3.0.\n",
      "  return nx.adjacency_matrix(self.g)\n",
      "/home/dwang/Desktop/PHD/Top10_ACC_8lines/graph.py:176: FutureWarning: adjacency_matrix will return a scipy.sparse array instead of a matrix in Networkx 3.0.\n",
      "  return nx.adjacency_matrix(self.g)\n",
      "/home/dwang/Desktop/PHD/Top10_ACC_8lines/graph.py:176: FutureWarning: adjacency_matrix will return a scipy.sparse array instead of a matrix in Networkx 3.0.\n",
      "  return nx.adjacency_matrix(self.g)\n",
      "/home/dwang/Desktop/PHD/Top10_ACC_8lines/graph.py:176: FutureWarning: adjacency_matrix will return a scipy.sparse array instead of a matrix in Networkx 3.0.\n",
      "  return nx.adjacency_matrix(self.g)\n",
      "/home/dwang/Desktop/PHD/Top10_ACC_8lines/graph.py:176: FutureWarning: adjacency_matrix will return a scipy.sparse array instead of a matrix in Networkx 3.0.\n",
      "  return nx.adjacency_matrix(self.g)\n",
      "/home/dwang/Desktop/PHD/Top10_ACC_8lines/graph.py:176: FutureWarning: adjacency_matrix will return a scipy.sparse array instead of a matrix in Networkx 3.0.\n",
      "  return nx.adjacency_matrix(self.g)\n",
      "/home/dwang/Desktop/PHD/Top10_ACC_8lines/graph.py:176: FutureWarning: adjacency_matrix will return a scipy.sparse array instead of a matrix in Networkx 3.0.\n",
      "  return nx.adjacency_matrix(self.g)\n",
      "/home/dwang/Desktop/PHD/Top10_ACC_8lines/graph.py:176: FutureWarning: adjacency_matrix will return a scipy.sparse array instead of a matrix in Networkx 3.0.\n",
      "  return nx.adjacency_matrix(self.g)\n",
      "/home/dwang/Desktop/PHD/Top10_ACC_8lines/graph.py:176: FutureWarning: adjacency_matrix will return a scipy.sparse array instead of a matrix in Networkx 3.0.\n",
      "  return nx.adjacency_matrix(self.g)\n",
      "/home/dwang/Desktop/PHD/Top10_ACC_8lines/graph.py:176: FutureWarning: adjacency_matrix will return a scipy.sparse array instead of a matrix in Networkx 3.0.\n",
      "  return nx.adjacency_matrix(self.g)\n",
      "/home/dwang/Desktop/PHD/Top10_ACC_8lines/graph.py:176: FutureWarning: adjacency_matrix will return a scipy.sparse array instead of a matrix in Networkx 3.0.\n",
      "  return nx.adjacency_matrix(self.g)\n",
      "/home/dwang/Desktop/PHD/Top10_ACC_8lines/graph.py:176: FutureWarning: adjacency_matrix will return a scipy.sparse array instead of a matrix in Networkx 3.0.\n",
      "  return nx.adjacency_matrix(self.g)\n",
      "/home/dwang/Desktop/PHD/Top10_ACC_8lines/graph.py:176: FutureWarning: adjacency_matrix will return a scipy.sparse array instead of a matrix in Networkx 3.0.\n",
      "  return nx.adjacency_matrix(self.g)\n",
      "/home/dwang/Desktop/PHD/Top10_ACC_8lines/graph.py:176: FutureWarning: adjacency_matrix will return a scipy.sparse array instead of a matrix in Networkx 3.0.\n",
      "  return nx.adjacency_matrix(self.g)\n",
      "/home/dwang/Desktop/PHD/Top10_ACC_8lines/graph.py:176: FutureWarning: adjacency_matrix will return a scipy.sparse array instead of a matrix in Networkx 3.0.\n",
      "  return nx.adjacency_matrix(self.g)\n",
      "/home/dwang/Desktop/PHD/Top10_ACC_8lines/graph.py:176: FutureWarning: adjacency_matrix will return a scipy.sparse array instead of a matrix in Networkx 3.0.\n",
      "  return nx.adjacency_matrix(self.g)\n",
      "/home/dwang/Desktop/PHD/Top10_ACC_8lines/graph.py:176: FutureWarning: adjacency_matrix will return a scipy.sparse array instead of a matrix in Networkx 3.0.\n",
      "  return nx.adjacency_matrix(self.g)\n",
      "/home/dwang/Desktop/PHD/Top10_ACC_8lines/graph.py:176: FutureWarning: adjacency_matrix will return a scipy.sparse array instead of a matrix in Networkx 3.0.\n",
      "  return nx.adjacency_matrix(self.g)\n",
      "/home/dwang/Desktop/PHD/Top10_ACC_8lines/graph.py:176: FutureWarning: adjacency_matrix will return a scipy.sparse array instead of a matrix in Networkx 3.0.\n",
      "  return nx.adjacency_matrix(self.g)\n",
      "/home/dwang/Desktop/PHD/Top10_ACC_8lines/graph.py:176: FutureWarning: adjacency_matrix will return a scipy.sparse array instead of a matrix in Networkx 3.0.\n",
      "  return nx.adjacency_matrix(self.g)\n"
     ]
    },
    {
     "name": "stderr",
     "output_type": "stream",
     "text": [
      "/home/dwang/Desktop/PHD/Top10_ACC_8lines/graph.py:176: FutureWarning: adjacency_matrix will return a scipy.sparse array instead of a matrix in Networkx 3.0.\n",
      "  return nx.adjacency_matrix(self.g)\n",
      "/home/dwang/Desktop/PHD/Top10_ACC_8lines/graph.py:176: FutureWarning: adjacency_matrix will return a scipy.sparse array instead of a matrix in Networkx 3.0.\n",
      "  return nx.adjacency_matrix(self.g)\n",
      "/home/dwang/Desktop/PHD/Top10_ACC_8lines/graph.py:176: FutureWarning: adjacency_matrix will return a scipy.sparse array instead of a matrix in Networkx 3.0.\n",
      "  return nx.adjacency_matrix(self.g)\n",
      "/home/dwang/Desktop/PHD/Top10_ACC_8lines/graph.py:176: FutureWarning: adjacency_matrix will return a scipy.sparse array instead of a matrix in Networkx 3.0.\n",
      "  return nx.adjacency_matrix(self.g)\n",
      "/home/dwang/Desktop/PHD/Top10_ACC_8lines/graph.py:176: FutureWarning: adjacency_matrix will return a scipy.sparse array instead of a matrix in Networkx 3.0.\n",
      "  return nx.adjacency_matrix(self.g)\n",
      "/home/dwang/Desktop/PHD/Top10_ACC_8lines/graph.py:176: FutureWarning: adjacency_matrix will return a scipy.sparse array instead of a matrix in Networkx 3.0.\n",
      "  return nx.adjacency_matrix(self.g)\n",
      "/home/dwang/Desktop/PHD/Top10_ACC_8lines/graph.py:176: FutureWarning: adjacency_matrix will return a scipy.sparse array instead of a matrix in Networkx 3.0.\n",
      "  return nx.adjacency_matrix(self.g)\n"
     ]
    },
    {
     "name": "stdout",
     "output_type": "stream",
     "text": [
      " -> epoch : 1\n",
      " -> epoch : 1\n"
     ]
    },
    {
     "name": "stderr",
     "output_type": "stream",
     "text": [
      "/home/dwang/Desktop/PHD/Top10_ACC_8lines/graph.py:176: FutureWarning: adjacency_matrix will return a scipy.sparse array instead of a matrix in Networkx 3.0.\n",
      "  return nx.adjacency_matrix(self.g)\n"
     ]
    },
    {
     "name": "stdout",
     "output_type": "stream",
     "text": [
      " -> epoch : 1\n"
     ]
    },
    {
     "name": "stderr",
     "output_type": "stream",
     "text": [
      "/home/dwang/Desktop/PHD/Top10_ACC_8lines/graph.py:176: FutureWarning: adjacency_matrix will return a scipy.sparse array instead of a matrix in Networkx 3.0.\n",
      "  return nx.adjacency_matrix(self.g)\n"
     ]
    },
    {
     "name": "stdout",
     "output_type": "stream",
     "text": [
      " -> epoch : 1\n",
      " -> epoch : 1\n",
      " -> epoch : 1\n",
      " -> epoch : 1\n",
      " -> epoch : 1\n",
      " -> epoch : 1\n",
      " -> epoch : 1\n",
      " -> epoch : 1\n",
      " -> epoch : 1\n",
      " -> epoch : 1\n",
      " -> epoch : 1\n",
      " -> epoch : 1\n",
      " -> epoch : 1\n",
      " -> epoch : 1\n"
     ]
    },
    {
     "name": "stderr",
     "output_type": "stream",
     "text": [
      "/home/dwang/Desktop/PHD/Top10_ACC_8lines/graph.py:176: FutureWarning: adjacency_matrix will return a scipy.sparse array instead of a matrix in Networkx 3.0.\n",
      "  return nx.adjacency_matrix(self.g)\n"
     ]
    },
    {
     "name": "stdout",
     "output_type": "stream",
     "text": [
      " -> epoch : 1\n",
      " -> epoch : 1\n",
      " -> epoch : 1\n",
      " -> epoch : 1\n",
      " -> epoch : 1\n",
      " -> epoch : 1\n"
     ]
    },
    {
     "name": "stderr",
     "output_type": "stream",
     "text": [
      "/home/dwang/Desktop/PHD/Top10_ACC_8lines/graph.py:176: FutureWarning: adjacency_matrix will return a scipy.sparse array instead of a matrix in Networkx 3.0.\n",
      "  return nx.adjacency_matrix(self.g)\n"
     ]
    },
    {
     "name": "stdout",
     "output_type": "stream",
     "text": [
      " -> epoch : 1\n"
     ]
    },
    {
     "name": "stderr",
     "output_type": "stream",
     "text": [
      "/home/dwang/Desktop/PHD/Top10_ACC_8lines/graph.py:176: FutureWarning: adjacency_matrix will return a scipy.sparse array instead of a matrix in Networkx 3.0.\n",
      "  return nx.adjacency_matrix(self.g)\n",
      "/home/dwang/Desktop/PHD/Top10_ACC_8lines/graph.py:176: FutureWarning: adjacency_matrix will return a scipy.sparse array instead of a matrix in Networkx 3.0.\n",
      "  return nx.adjacency_matrix(self.g)\n"
     ]
    },
    {
     "name": "stdout",
     "output_type": "stream",
     "text": [
      " -> epoch : 1\n"
     ]
    },
    {
     "name": "stderr",
     "output_type": "stream",
     "text": [
      "/home/dwang/Desktop/PHD/Top10_ACC_8lines/graph.py:176: FutureWarning: adjacency_matrix will return a scipy.sparse array instead of a matrix in Networkx 3.0.\n",
      "  return nx.adjacency_matrix(self.g)\n",
      "/home/dwang/Desktop/PHD/Top10_ACC_8lines/graph.py:176: FutureWarning: adjacency_matrix will return a scipy.sparse array instead of a matrix in Networkx 3.0.\n",
      "  return nx.adjacency_matrix(self.g)\n",
      "/home/dwang/Desktop/PHD/Top10_ACC_8lines/graph.py:176: FutureWarning: adjacency_matrix will return a scipy.sparse array instead of a matrix in Networkx 3.0.\n",
      "  return nx.adjacency_matrix(self.g)\n",
      "/home/dwang/Desktop/PHD/Top10_ACC_8lines/graph.py:176: FutureWarning: adjacency_matrix will return a scipy.sparse array instead of a matrix in Networkx 3.0.\n",
      "  return nx.adjacency_matrix(self.g)\n"
     ]
    },
    {
     "name": "stdout",
     "output_type": "stream",
     "text": [
      " -> epoch : 1\n",
      " -> epoch : 1\n"
     ]
    },
    {
     "name": "stderr",
     "output_type": "stream",
     "text": [
      "/home/dwang/Desktop/PHD/Top10_ACC_8lines/graph.py:176: FutureWarning: adjacency_matrix will return a scipy.sparse array instead of a matrix in Networkx 3.0.\n",
      "  return nx.adjacency_matrix(self.g)\n",
      "/home/dwang/Desktop/PHD/Top10_ACC_8lines/graph.py:176: FutureWarning: adjacency_matrix will return a scipy.sparse array instead of a matrix in Networkx 3.0.\n",
      "  return nx.adjacency_matrix(self.g)\n",
      "/home/dwang/Desktop/PHD/Top10_ACC_8lines/graph.py:176: FutureWarning: adjacency_matrix will return a scipy.sparse array instead of a matrix in Networkx 3.0.\n",
      "  return nx.adjacency_matrix(self.g)\n",
      "/home/dwang/Desktop/PHD/Top10_ACC_8lines/graph.py:176: FutureWarning: adjacency_matrix will return a scipy.sparse array instead of a matrix in Networkx 3.0.\n",
      "  return nx.adjacency_matrix(self.g)\n"
     ]
    },
    {
     "name": "stdout",
     "output_type": "stream",
     "text": [
      " -> epoch : 1\n",
      " -> epoch : 1\n"
     ]
    },
    {
     "name": "stderr",
     "output_type": "stream",
     "text": [
      "/home/dwang/Desktop/PHD/Top10_ACC_8lines/graph.py:176: FutureWarning: adjacency_matrix will return a scipy.sparse array instead of a matrix in Networkx 3.0.\n",
      "  return nx.adjacency_matrix(self.g)\n",
      "/home/dwang/Desktop/PHD/Top10_ACC_8lines/graph.py:176: FutureWarning: adjacency_matrix will return a scipy.sparse array instead of a matrix in Networkx 3.0.\n",
      "  return nx.adjacency_matrix(self.g)\n",
      "/home/dwang/Desktop/PHD/Top10_ACC_8lines/graph.py:176: FutureWarning: adjacency_matrix will return a scipy.sparse array instead of a matrix in Networkx 3.0.\n",
      "  return nx.adjacency_matrix(self.g)\n"
     ]
    },
    {
     "name": "stdout",
     "output_type": "stream",
     "text": [
      " -> epoch : 1\n",
      " -> epoch : 1\n",
      " -> epoch : 1\n",
      " -> epoch : 1\n"
     ]
    },
    {
     "name": "stderr",
     "output_type": "stream",
     "text": [
      "/home/dwang/Desktop/PHD/Top10_ACC_8lines/graph.py:176: FutureWarning: adjacency_matrix will return a scipy.sparse array instead of a matrix in Networkx 3.0.\n",
      "  return nx.adjacency_matrix(self.g)\n",
      "/home/dwang/Desktop/PHD/Top10_ACC_8lines/graph.py:176: FutureWarning: adjacency_matrix will return a scipy.sparse array instead of a matrix in Networkx 3.0.\n",
      "  return nx.adjacency_matrix(self.g)\n"
     ]
    },
    {
     "name": "stdout",
     "output_type": "stream",
     "text": [
      " -> epoch : 1\n"
     ]
    },
    {
     "name": "stderr",
     "output_type": "stream",
     "text": [
      "/home/dwang/Desktop/PHD/Top10_ACC_8lines/graph.py:176: FutureWarning: adjacency_matrix will return a scipy.sparse array instead of a matrix in Networkx 3.0.\n",
      "  return nx.adjacency_matrix(self.g)\n",
      "/home/dwang/Desktop/PHD/Top10_ACC_8lines/graph.py:176: FutureWarning: adjacency_matrix will return a scipy.sparse array instead of a matrix in Networkx 3.0.\n",
      "  return nx.adjacency_matrix(self.g)\n"
     ]
    },
    {
     "name": "stdout",
     "output_type": "stream",
     "text": [
      " -> epoch : 1\n"
     ]
    },
    {
     "name": "stderr",
     "output_type": "stream",
     "text": [
      "/home/dwang/Desktop/PHD/Top10_ACC_8lines/graph.py:176: FutureWarning: adjacency_matrix will return a scipy.sparse array instead of a matrix in Networkx 3.0.\n",
      "  return nx.adjacency_matrix(self.g)\n",
      "/home/dwang/Desktop/PHD/Top10_ACC_8lines/graph.py:176: FutureWarning: adjacency_matrix will return a scipy.sparse array instead of a matrix in Networkx 3.0.\n",
      "  return nx.adjacency_matrix(self.g)\n",
      "/home/dwang/Desktop/PHD/Top10_ACC_8lines/graph.py:176: FutureWarning: adjacency_matrix will return a scipy.sparse array instead of a matrix in Networkx 3.0.\n",
      "  return nx.adjacency_matrix(self.g)\n"
     ]
    },
    {
     "name": "stdout",
     "output_type": "stream",
     "text": [
      " -> epoch : 1\n",
      " -> epoch : 1\n",
      " -> epoch : 1\n",
      " -> epoch : 1\n",
      " -> epoch : 1\n"
     ]
    },
    {
     "name": "stderr",
     "output_type": "stream",
     "text": [
      "/home/dwang/Desktop/PHD/Top10_ACC_8lines/graph.py:176: FutureWarning: adjacency_matrix will return a scipy.sparse array instead of a matrix in Networkx 3.0.\n",
      "  return nx.adjacency_matrix(self.g)\n"
     ]
    },
    {
     "name": "stdout",
     "output_type": "stream",
     "text": [
      " -> epoch : 1\n"
     ]
    },
    {
     "name": "stderr",
     "output_type": "stream",
     "text": [
      "/home/dwang/Desktop/PHD/Top10_ACC_8lines/graph.py:176: FutureWarning: adjacency_matrix will return a scipy.sparse array instead of a matrix in Networkx 3.0.\n",
      "  return nx.adjacency_matrix(self.g)\n"
     ]
    },
    {
     "name": "stdout",
     "output_type": "stream",
     "text": [
      " -> epoch : 1\n"
     ]
    },
    {
     "name": "stderr",
     "output_type": "stream",
     "text": [
      "/home/dwang/Desktop/PHD/Top10_ACC_8lines/graph.py:176: FutureWarning: adjacency_matrix will return a scipy.sparse array instead of a matrix in Networkx 3.0.\n",
      "  return nx.adjacency_matrix(self.g)\n"
     ]
    },
    {
     "name": "stdout",
     "output_type": "stream",
     "text": [
      " -> epoch : 1\n",
      " -> epoch : 1\n"
     ]
    },
    {
     "name": "stderr",
     "output_type": "stream",
     "text": [
      "/home/dwang/Desktop/PHD/Top10_ACC_8lines/graph.py:176: FutureWarning: adjacency_matrix will return a scipy.sparse array instead of a matrix in Networkx 3.0.\n",
      "  return nx.adjacency_matrix(self.g)\n",
      "/home/dwang/Desktop/PHD/Top10_ACC_8lines/graph.py:176: FutureWarning: adjacency_matrix will return a scipy.sparse array instead of a matrix in Networkx 3.0.\n",
      "  return nx.adjacency_matrix(self.g)\n"
     ]
    },
    {
     "name": "stdout",
     "output_type": "stream",
     "text": [
      " -> epoch : 1\n",
      " -> epoch : 1\n"
     ]
    },
    {
     "name": "stderr",
     "output_type": "stream",
     "text": [
      "/home/dwang/Desktop/PHD/Top10_ACC_8lines/graph.py:176: FutureWarning: adjacency_matrix will return a scipy.sparse array instead of a matrix in Networkx 3.0.\n",
      "  return nx.adjacency_matrix(self.g)\n",
      "/home/dwang/Desktop/PHD/Top10_ACC_8lines/graph.py:176: FutureWarning: adjacency_matrix will return a scipy.sparse array instead of a matrix in Networkx 3.0.\n",
      "  return nx.adjacency_matrix(self.g)\n",
      "/home/dwang/Desktop/PHD/Top10_ACC_8lines/graph.py:176: FutureWarning: adjacency_matrix will return a scipy.sparse array instead of a matrix in Networkx 3.0.\n",
      "  return nx.adjacency_matrix(self.g)\n",
      "/home/dwang/Desktop/PHD/Top10_ACC_8lines/graph.py:176: FutureWarning: adjacency_matrix will return a scipy.sparse array instead of a matrix in Networkx 3.0.\n",
      "  return nx.adjacency_matrix(self.g)\n",
      "/home/dwang/Desktop/PHD/Top10_ACC_8lines/graph.py:176: FutureWarning: adjacency_matrix will return a scipy.sparse array instead of a matrix in Networkx 3.0.\n",
      "  return nx.adjacency_matrix(self.g)\n",
      "/home/dwang/Desktop/PHD/Top10_ACC_8lines/graph.py:176: FutureWarning: adjacency_matrix will return a scipy.sparse array instead of a matrix in Networkx 3.0.\n",
      "  return nx.adjacency_matrix(self.g)\n",
      "/home/dwang/Desktop/PHD/Top10_ACC_8lines/graph.py:176: FutureWarning: adjacency_matrix will return a scipy.sparse array instead of a matrix in Networkx 3.0.\n",
      "  return nx.adjacency_matrix(self.g)\n",
      "/home/dwang/Desktop/PHD/Top10_ACC_8lines/graph.py:176: FutureWarning: adjacency_matrix will return a scipy.sparse array instead of a matrix in Networkx 3.0.\n",
      "  return nx.adjacency_matrix(self.g)\n",
      "/home/dwang/Desktop/PHD/Top10_ACC_8lines/graph.py:176: FutureWarning: adjacency_matrix will return a scipy.sparse array instead of a matrix in Networkx 3.0.\n",
      "  return nx.adjacency_matrix(self.g)\n",
      "/home/dwang/Desktop/PHD/Top10_ACC_8lines/graph.py:176: FutureWarning: adjacency_matrix will return a scipy.sparse array instead of a matrix in Networkx 3.0.\n",
      "  return nx.adjacency_matrix(self.g)\n",
      "/home/dwang/Desktop/PHD/Top10_ACC_8lines/graph.py:176: FutureWarning: adjacency_matrix will return a scipy.sparse array instead of a matrix in Networkx 3.0.\n",
      "  return nx.adjacency_matrix(self.g)\n",
      "/home/dwang/Desktop/PHD/Top10_ACC_8lines/graph.py:176: FutureWarning: adjacency_matrix will return a scipy.sparse array instead of a matrix in Networkx 3.0.\n",
      "  return nx.adjacency_matrix(self.g)\n",
      "/home/dwang/Desktop/PHD/Top10_ACC_8lines/graph.py:176: FutureWarning: adjacency_matrix will return a scipy.sparse array instead of a matrix in Networkx 3.0.\n",
      "  return nx.adjacency_matrix(self.g)\n",
      "/home/dwang/Desktop/PHD/Top10_ACC_8lines/graph.py:176: FutureWarning: adjacency_matrix will return a scipy.sparse array instead of a matrix in Networkx 3.0.\n",
      "  return nx.adjacency_matrix(self.g)\n",
      "/home/dwang/Desktop/PHD/Top10_ACC_8lines/graph.py:176: FutureWarning: adjacency_matrix will return a scipy.sparse array instead of a matrix in Networkx 3.0.\n",
      "  return nx.adjacency_matrix(self.g)\n",
      "/home/dwang/Desktop/PHD/Top10_ACC_8lines/graph.py:176: FutureWarning: adjacency_matrix will return a scipy.sparse array instead of a matrix in Networkx 3.0.\n",
      "  return nx.adjacency_matrix(self.g)\n",
      "/home/dwang/Desktop/PHD/Top10_ACC_8lines/graph.py:176: FutureWarning: adjacency_matrix will return a scipy.sparse array instead of a matrix in Networkx 3.0.\n",
      "  return nx.adjacency_matrix(self.g)\n"
     ]
    },
    {
     "name": "stdout",
     "output_type": "stream",
     "text": [
      " -> epoch : 1\n"
     ]
    },
    {
     "name": "stderr",
     "output_type": "stream",
     "text": [
      "/home/dwang/Desktop/PHD/Top10_ACC_8lines/graph.py:176: FutureWarning: adjacency_matrix will return a scipy.sparse array instead of a matrix in Networkx 3.0.\n",
      "  return nx.adjacency_matrix(self.g)\n"
     ]
    },
    {
     "name": "stdout",
     "output_type": "stream",
     "text": [
      " -> epoch : 1\n"
     ]
    },
    {
     "name": "stderr",
     "output_type": "stream",
     "text": [
      "/home/dwang/Desktop/PHD/Top10_ACC_8lines/graph.py:176: FutureWarning: adjacency_matrix will return a scipy.sparse array instead of a matrix in Networkx 3.0.\n",
      "  return nx.adjacency_matrix(self.g)\n"
     ]
    },
    {
     "name": "stdout",
     "output_type": "stream",
     "text": [
      " -> epoch : 1\n",
      " -> epoch : 2\n",
      " -> epoch : 1\n"
     ]
    },
    {
     "name": "stderr",
     "output_type": "stream",
     "text": [
      "/home/dwang/Desktop/PHD/Top10_ACC_8lines/graph.py:176: FutureWarning: adjacency_matrix will return a scipy.sparse array instead of a matrix in Networkx 3.0.\n",
      "  return nx.adjacency_matrix(self.g)\n",
      "/home/dwang/Desktop/PHD/Top10_ACC_8lines/graph.py:176: FutureWarning: adjacency_matrix will return a scipy.sparse array instead of a matrix in Networkx 3.0.\n",
      "  return nx.adjacency_matrix(self.g)\n"
     ]
    },
    {
     "name": "stdout",
     "output_type": "stream",
     "text": [
      " -> epoch : 2\n",
      " -> epoch : 2\n",
      " -> epoch : 2\n",
      " -> epoch : 2\n",
      " -> epoch : 2\n",
      " -> epoch : 2\n",
      " -> epoch : 2\n",
      " -> epoch : 2\n",
      " -> epoch : 2\n",
      " -> epoch : 2\n",
      " -> epoch : 2\n",
      " -> epoch : 2\n",
      " -> epoch : 2\n",
      " -> epoch : 2\n",
      " -> epoch : 2\n",
      " -> epoch : 2\n",
      " -> epoch : 2\n",
      " -> epoch : 2\n",
      " -> epoch : 2\n",
      " -> epoch : 2\n",
      " -> epoch : 2\n",
      " -> epoch : 2\n",
      " -> epoch : 2\n",
      " -> epoch : 2\n",
      " -> epoch : 2\n",
      " -> epoch : 2\n",
      " -> epoch : 2\n",
      " -> epoch : 2\n",
      " -> epoch : 2\n",
      " -> epoch : 2\n",
      " -> epoch : 2\n",
      " -> epoch : 2\n",
      " -> epoch : 2\n",
      " -> epoch : 2\n",
      " -> epoch : 2\n",
      " -> epoch : 2\n",
      " -> epoch : 2\n",
      " -> epoch : 2\n",
      " -> epoch : 2\n",
      " -> epoch : 2\n",
      " -> epoch : 2\n",
      " -> epoch : 2\n",
      " -> epoch : 2\n",
      " -> epoch : 2\n",
      " -> epoch : 2\n",
      " -> epoch : 2\n",
      " -> epoch : 3\n",
      " -> epoch : 3\n",
      " -> epoch : 3\n",
      " -> epoch : 3\n",
      " -> epoch : 3\n",
      " -> epoch : 3\n",
      " -> epoch : 3\n",
      " -> epoch : 3\n",
      " -> epoch : 3\n",
      " -> epoch : 3\n",
      " -> epoch : 3\n",
      " -> epoch : 3\n",
      " -> epoch : 3\n",
      " -> epoch : 3\n",
      " -> epoch : 3\n",
      " -> epoch : 3\n",
      " -> epoch : 3\n",
      " -> epoch : 3\n",
      " -> epoch : 3\n",
      " -> epoch : 3\n",
      " -> epoch : 3\n",
      " -> epoch : 3\n",
      " -> epoch : 3\n",
      " -> epoch : 3\n",
      " -> epoch : 3\n",
      " -> epoch : 3\n",
      " -> epoch : 3\n",
      " -> epoch : 3\n",
      " -> epoch : 2\n",
      " -> epoch : 2\n",
      " -> epoch : 3\n",
      " -> epoch : 3\n",
      " -> epoch : 3\n",
      " -> epoch : 3\n",
      " -> epoch : 3\n",
      " -> epoch : 3\n",
      " -> epoch : 3\n",
      " -> epoch : 3\n",
      " -> epoch : 3\n",
      " -> epoch : 3\n",
      " -> epoch : 3\n",
      " -> epoch : 3\n",
      " -> epoch : 3\n",
      " -> epoch : 3\n",
      " -> epoch : 3\n",
      " -> epoch : 3\n",
      " -> epoch : 3\n",
      " -> epoch : 2\n",
      " -> epoch : 3\n",
      " -> epoch : 4\n",
      " -> epoch : 4\n",
      " -> epoch : 4\n",
      " -> epoch : 4\n",
      " -> epoch : 4\n",
      " -> epoch : 4\n",
      " -> epoch : 4\n",
      " -> epoch : 4\n",
      " -> epoch : 4\n",
      " -> epoch : 4\n",
      " -> epoch : 4\n",
      " -> epoch : 4\n",
      " -> epoch : 4\n",
      " -> epoch : 4\n",
      " -> epoch : 4\n",
      " -> epoch : 4\n",
      " -> epoch : 4\n",
      " -> epoch : 4\n",
      " -> epoch : 4\n",
      " -> epoch : 3\n",
      " -> epoch : 4\n",
      " -> epoch : 4 -> epoch : 4\n",
      "\n",
      " -> epoch : 4\n",
      " -> epoch : 4\n",
      " -> epoch : 4\n",
      " -> epoch : 4\n",
      " -> epoch : 4\n",
      " -> epoch : 4\n",
      " -> epoch : 4\n",
      " -> epoch : 4\n",
      " -> epoch : 3\n",
      " -> epoch : 4\n",
      " -> epoch : 4\n",
      " -> epoch : 4\n",
      " -> epoch : 4\n",
      " -> epoch : 4\n",
      " -> epoch : 4\n",
      " -> epoch : 4\n",
      " -> epoch : 4\n",
      " -> epoch : 4\n",
      " -> epoch : 4\n",
      " -> epoch : 4\n",
      " -> epoch : 4\n",
      " -> epoch : 3\n",
      " -> epoch : 4\n",
      " -> epoch : 4\n",
      " -> epoch : 5\n",
      " -> epoch : 4\n",
      " -> epoch : 4\n",
      " -> epoch : 5\n",
      " -> epoch : 5\n",
      " -> epoch : 5\n",
      " -> epoch : 5\n",
      " -> epoch : 5\n",
      " -> epoch : 5\n",
      " -> epoch : 5\n",
      " -> epoch : 5\n",
      " -> epoch : 5\n",
      " -> epoch : 5\n",
      " -> epoch : 5\n",
      " -> epoch : 4\n",
      " -> epoch : 5\n",
      " -> epoch : 5\n",
      " -> epoch : 5\n",
      " -> epoch : 5\n",
      " -> epoch : 5\n",
      " -> epoch : 5\n",
      " -> epoch : 5\n",
      " -> epoch : 5\n",
      " -> epoch : 5\n",
      " -> epoch : 4\n",
      " -> epoch : 5\n",
      " -> epoch : 5 -> epoch : 5\n",
      "\n",
      " -> epoch : 5\n",
      " -> epoch : 5\n",
      " -> epoch : 5\n",
      " -> epoch : 5\n",
      " -> epoch : 5\n",
      " -> epoch : 5\n",
      " -> epoch : 5\n",
      " -> epoch : 5\n",
      " -> epoch : 5\n",
      " -> epoch : 5\n",
      " -> epoch : 5\n",
      " -> epoch : 5\n",
      " -> epoch : 5\n",
      " -> epoch : 5\n",
      " -> epoch : 5\n",
      " -> epoch : 5\n",
      " -> epoch : 5\n",
      " -> epoch : 3\n",
      " -> epoch : 5\n",
      " -> epoch : 5\n",
      " -> epoch : 6\n",
      " -> epoch : 5\n",
      " -> epoch : 6\n",
      " -> epoch : 6\n",
      " -> epoch : 6\n",
      " -> epoch : 6\n",
      " -> epoch : 6\n",
      " -> epoch : 6\n",
      " -> epoch : 6\n",
      " -> epoch : 5\n",
      " -> epoch : 6\n",
      " -> epoch : 6\n",
      " -> epoch : 6\n",
      " -> epoch : 6\n",
      " -> epoch : 6\n",
      " -> epoch : 6\n",
      " -> epoch : 6\n",
      " -> epoch : 6\n",
      " -> epoch : 6\n",
      " -> epoch : 6\n",
      " -> epoch : 6\n",
      " -> epoch : 6\n",
      " -> epoch : 6\n",
      " -> epoch : 6\n",
      " -> epoch : 6\n",
      " -> epoch : 6\n",
      " -> epoch : 6\n",
      " -> epoch : 6\n",
      " -> epoch : 6\n",
      " -> epoch : 6\n",
      " -> epoch : 6\n",
      " -> epoch : 6\n",
      " -> epoch : 6\n",
      " -> epoch : 6\n",
      " -> epoch : 6\n",
      " -> epoch : 6\n",
      " -> epoch : 5\n",
      " -> epoch : 6\n",
      " -> epoch : 6\n",
      " -> epoch : 6\n",
      " -> epoch : 6\n",
      " -> epoch : 6\n",
      " -> epoch : 6\n",
      " -> epoch : 4\n",
      " -> epoch : 6\n",
      " -> epoch : 6\n",
      " -> epoch : 6\n",
      " -> epoch : 5\n",
      " -> epoch : 5\n",
      " -> epoch : 6\n",
      " -> epoch : 7\n",
      " -> epoch : 7\n",
      " -> epoch : 7\n",
      " -> epoch : 7\n",
      " -> epoch : 7\n",
      " -> epoch : 7\n",
      " -> epoch : 7\n",
      " -> epoch : 7\n",
      " -> epoch : 6\n",
      " -> epoch : 7\n",
      " -> epoch : 7\n",
      " -> epoch : 4\n",
      " -> epoch : 7\n",
      " -> epoch : 7\n",
      " -> epoch : 7\n",
      " -> epoch : 7\n",
      " -> epoch : 7\n",
      " -> epoch : 7\n",
      " -> epoch : 7\n",
      " -> epoch : 7\n",
      " -> epoch : 7\n",
      " -> epoch : 7\n",
      " -> epoch : 7\n",
      " -> epoch : 6\n",
      " -> epoch : 7\n",
      " -> epoch : 7\n",
      " -> epoch : 7\n",
      " -> epoch : 7\n",
      " -> epoch : 7\n",
      " -> epoch : 7\n",
      " -> epoch : 7\n",
      " -> epoch : 7\n",
      " -> epoch : 7\n",
      " -> epoch : 7\n",
      " -> epoch : 7\n",
      " -> epoch : 7\n",
      " -> epoch : 7\n",
      " -> epoch : 7\n",
      " -> epoch : 7\n",
      " -> epoch : 7\n",
      " -> epoch : 7\n",
      " -> epoch : 7\n",
      " -> epoch : 7\n",
      " -> epoch : 7\n",
      " -> epoch : 7\n",
      " -> epoch : 7\n",
      " -> epoch : 5\n",
      " -> epoch : 8\n",
      " -> epoch : 8\n",
      " -> epoch : 8\n",
      " -> epoch : 8\n",
      " -> epoch : 8\n",
      " -> epoch : 8\n",
      " -> epoch : 8\n",
      " -> epoch : 8\n",
      " -> epoch : 8\n",
      " -> epoch : 8\n",
      " -> epoch : 8\n",
      " -> epoch : 7\n",
      " -> epoch : 8\n",
      " -> epoch : 8\n",
      " -> epoch : 8\n",
      " -> epoch : 8\n",
      " -> epoch : 8\n",
      " -> epoch : 8\n",
      " -> epoch : 8\n",
      " -> epoch : 8\n",
      " -> epoch : 8\n",
      " -> epoch : 8\n",
      " -> epoch : 8\n",
      " -> epoch : 8\n",
      " -> epoch : 7\n",
      " -> epoch : 8\n",
      " -> epoch : 7\n",
      " -> epoch : 8\n",
      " -> epoch : 8\n",
      " -> epoch : 8\n",
      " -> epoch : 8\n",
      " -> epoch : 8\n",
      " -> epoch : 8\n",
      " -> epoch : 8\n",
      " -> epoch : 5\n",
      " -> epoch : 8\n",
      " -> epoch : 8\n",
      " -> epoch : 8\n",
      " -> epoch : 8\n",
      " -> epoch : 8\n",
      " -> epoch : 8\n",
      " -> epoch : 8\n",
      " -> epoch : 8\n",
      " -> epoch : 8\n",
      " -> epoch : 8\n",
      " -> epoch : 8\n",
      " -> epoch : 8\n",
      " -> epoch : 6\n",
      " -> epoch : 6\n",
      " -> epoch : 6\n",
      " -> epoch : 9\n",
      " -> epoch : 9\n",
      " -> epoch : 9\n",
      " -> epoch : 9\n",
      " -> epoch : 9\n",
      " -> epoch : 9\n",
      " -> epoch : 9\n",
      " -> epoch : 9\n",
      " -> epoch : 9\n",
      " -> epoch : 9\n",
      " -> epoch : 9\n",
      " -> epoch : 9\n",
      " -> epoch : 9\n",
      " -> epoch : 9\n",
      " -> epoch : 9\n",
      " -> epoch : 8\n",
      " -> epoch : 9\n",
      " -> epoch : 9\n",
      " -> epoch : 9\n",
      " -> epoch : 9\n",
      " -> epoch : 9\n",
      " -> epoch : 9\n",
      " -> epoch : 9\n",
      " -> epoch : 9\n",
      " -> epoch : 9\n",
      " -> epoch : 8\n",
      " -> epoch : 9\n",
      " -> epoch : 9\n",
      " -> epoch : 9\n",
      " -> epoch : 9\n",
      " -> epoch : 9\n",
      " -> epoch : 9\n",
      " -> epoch : 6\n",
      " -> epoch : 9\n",
      " -> epoch : 9\n",
      " -> epoch : 9\n",
      " -> epoch : 9\n",
      " -> epoch : 9\n",
      " -> epoch : 9\n",
      " -> epoch : 9\n",
      " -> epoch : 9\n",
      " -> epoch : 9\n",
      " -> epoch : 9\n",
      " -> epoch : 9\n",
      " -> epoch : 9\n",
      " -> epoch : 7\n",
      " -> epoch : 8\n",
      " -> epoch : 10\n",
      " -> epoch : 7\n",
      " -> epoch : 7\n",
      " -> epoch : 10\n",
      " -> epoch : 10\n",
      " -> epoch : 10\n",
      " -> epoch : 10\n",
      " -> epoch : 10\n",
      " -> epoch : 10\n",
      " -> epoch : 10\n",
      " -> epoch : 10\n",
      " -> epoch : 10\n",
      " -> epoch : 10\n",
      " -> epoch : 10\n",
      " -> epoch : 10\n",
      " -> epoch : 10\n",
      " -> epoch : 10\n",
      " -> epoch : 9\n",
      " -> epoch : 10\n",
      " -> epoch : 10\n",
      " -> epoch : 10\n",
      " -> epoch : 10\n",
      " -> epoch : 10\n",
      " -> epoch : 10\n",
      " -> epoch : 10\n",
      " -> epoch : 10\n",
      " -> epoch : 9\n",
      " -> epoch : 10\n",
      " -> epoch : 10\n",
      " -> epoch : 10\n",
      " -> epoch : 10\n",
      " -> epoch : 10\n",
      " -> epoch : 10\n",
      " -> epoch : 10\n",
      " -> epoch : 10\n",
      " -> epoch : 10\n",
      " -> epoch : 7\n",
      " -> epoch : 10\n",
      " -> epoch : 10\n",
      " -> epoch : 10\n",
      " -> epoch : 10\n",
      " -> epoch : 10\n",
      " -> epoch : 10\n",
      " -> epoch : 9\n",
      " -> epoch : 10\n",
      " -> epoch : 10\n",
      " -> epoch : 8\n",
      " -> epoch : 11\n",
      " -> epoch : 8\n",
      " -> epoch : 8\n",
      " -> epoch : 11\n",
      " -> epoch : 11\n",
      " -> epoch : 11\n",
      " -> epoch : 11\n",
      " -> epoch : 11\n",
      " -> epoch : 11\n",
      " -> epoch : 11\n",
      " -> epoch : 11\n",
      " -> epoch : 10\n",
      " -> epoch : 9\n",
      " -> epoch : 11\n",
      " -> epoch : 11\n",
      " -> epoch : 11\n",
      " -> epoch : 11\n",
      " -> epoch : 11\n",
      " -> epoch : 11\n",
      " -> epoch : 11\n",
      " -> epoch : 11\n",
      " -> epoch : 10\n",
      " -> epoch : 11\n",
      " -> epoch : 10\n",
      " -> epoch : 11\n",
      " -> epoch : 8\n",
      " -> epoch : 11\n",
      " -> epoch : 11\n",
      " -> epoch : 10\n",
      " -> epoch : 11\n",
      " -> epoch : 11\n",
      " -> epoch : 11\n",
      " -> epoch : 11\n",
      " -> epoch : 11\n",
      " -> epoch : 11\n",
      " -> epoch : 11\n",
      " -> epoch : 11\n",
      " -> epoch : 11\n",
      " -> epoch : 11\n",
      " -> epoch : 11\n",
      " -> epoch : 11\n",
      " -> epoch : 11\n",
      " -> epoch : 11\n",
      " -> epoch : 10\n",
      " -> epoch : 11\n",
      " -> epoch : 11\n",
      " -> epoch : 11\n",
      " -> epoch : 11\n",
      " -> epoch : 11\n",
      " -> epoch : 9\n",
      " -> epoch : 12\n",
      " -> epoch : 9\n",
      " -> epoch : 9\n",
      " -> epoch : 12\n",
      " -> epoch : 12\n",
      " -> epoch : 12\n",
      " -> epoch : 12\n",
      " -> epoch : 12\n",
      " -> epoch : 12\n",
      " -> epoch : 12\n",
      " -> epoch : 12\n",
      " -> epoch : 12\n",
      " -> epoch : 12\n",
      " -> epoch : 10\n",
      " -> epoch : 12\n",
      " -> epoch : 12\n",
      " -> epoch : 12\n",
      " -> epoch : 12\n",
      " -> epoch : 12\n",
      " -> epoch : 12\n",
      " -> epoch : 12\n",
      " -> epoch : 11\n",
      " -> epoch : 11\n",
      " -> epoch : 11\n",
      " -> epoch : 12\n",
      " -> epoch : 12\n",
      " -> epoch : 11\n",
      " -> epoch : 12\n",
      " -> epoch : 12\n",
      " -> epoch : 12\n",
      " -> epoch : 12\n",
      " -> epoch : 12\n",
      " -> epoch : 12\n",
      " -> epoch : 12\n",
      " -> epoch : 12\n",
      " -> epoch : 12\n",
      " -> epoch : 12\n",
      " -> epoch : 12\n",
      " -> epoch : 11\n",
      " -> epoch : 12\n",
      " -> epoch : 12\n",
      " -> epoch : 12\n",
      " -> epoch : 12\n",
      " -> epoch : 12\n",
      " -> epoch : 12\n",
      " -> epoch : 12\n",
      " -> epoch : 10\n",
      " -> epoch : 13\n",
      " -> epoch : 13\n",
      " -> epoch : 10\n",
      " -> epoch : 10\n",
      " -> epoch : 13\n",
      " -> epoch : 13\n",
      " -> epoch : 13\n",
      " -> epoch : 12\n",
      " -> epoch : 13\n",
      " -> epoch : 9\n",
      " -> epoch : 13\n",
      " -> epoch : 12\n",
      " -> epoch : 13\n",
      " -> epoch : 13\n",
      " -> epoch : 13\n",
      " -> epoch : 13\n",
      " -> epoch : 13\n",
      " -> epoch : 13\n",
      " -> epoch : 11\n",
      " -> epoch : 13\n",
      " -> epoch : 13\n",
      " -> epoch : 13\n",
      " -> epoch : 12\n",
      " -> epoch : 13\n",
      " -> epoch : 12\n",
      " -> epoch : 13\n",
      " -> epoch : 12\n",
      " -> epoch : 13\n",
      " -> epoch : 13\n",
      " -> epoch : 13\n",
      " -> epoch : 12\n",
      " -> epoch : 13\n",
      " -> epoch : 13\n",
      " -> epoch : 13\n",
      " -> epoch : 13\n",
      " -> epoch : 13\n",
      " -> epoch : 13\n",
      " -> epoch : 13\n",
      " -> epoch : 13\n",
      " -> epoch : 13\n",
      " -> epoch : 13\n",
      " -> epoch : 12\n",
      " -> epoch : 13\n",
      " -> epoch : 13\n"
     ]
    },
    {
     "name": "stdout",
     "output_type": "stream",
     "text": [
      " -> epoch : 13\n",
      " -> epoch : 13\n",
      " -> epoch : 13\n",
      " -> epoch : 13\n",
      " -> epoch : 14\n",
      " -> epoch : 11\n",
      " -> epoch : 14\n",
      " -> epoch : 14\n",
      " -> epoch : 11\n",
      " -> epoch : 14\n",
      " -> epoch : 14\n",
      " -> epoch : 14\n",
      " -> epoch : 11\n",
      " -> epoch : 14\n",
      " -> epoch : 14\n",
      " -> epoch : 14\n",
      " -> epoch : 14\n",
      " -> epoch : 14\n",
      " -> epoch : 14\n",
      " -> epoch : 14\n",
      " -> epoch : 14\n",
      " -> epoch : 13\n",
      " -> epoch : 14\n",
      " -> epoch : 14\n",
      " -> epoch : 12\n",
      " -> epoch : 13\n",
      " -> epoch : 14\n",
      " -> epoch : 14\n",
      " -> epoch : 14\n",
      " -> epoch : 14\n",
      " -> epoch : 13\n",
      " -> epoch : 14\n",
      " -> epoch : 13\n",
      " -> epoch : 14\n",
      " -> epoch : 14\n",
      " -> epoch : 14\n",
      " -> epoch : 14\n",
      " -> epoch : 14\n",
      " -> epoch : 14\n",
      " -> epoch : 14\n",
      " -> epoch : 14\n",
      " -> epoch : 13\n",
      " -> epoch : 14\n",
      " -> epoch : 14\n",
      " -> epoch : 14\n",
      " -> epoch : 14\n",
      " -> epoch : 14\n",
      " -> epoch : 14\n",
      " -> epoch : 14\n",
      " -> epoch : 14\n",
      " -> epoch : 13\n",
      " -> epoch : 13\n",
      " -> epoch : 15\n",
      " -> epoch : 10\n",
      " -> epoch : 12\n",
      " -> epoch : 15\n",
      " -> epoch : 12\n",
      " -> epoch : 15\n",
      " -> epoch : 13\n",
      " -> epoch : 15\n",
      " -> epoch : 15\n",
      " -> epoch : 15\n",
      " -> epoch : 12\n",
      " -> epoch : 15\n",
      " -> epoch : 15\n",
      " -> epoch : 15\n",
      " -> epoch : 15\n",
      " -> epoch : 15\n",
      " -> epoch : 15\n",
      " -> epoch : 15\n",
      " -> epoch : 15\n",
      " -> epoch : 15\n",
      " -> epoch : 14\n",
      " -> epoch : 15\n",
      " -> epoch : 15\n",
      " -> epoch : 14\n",
      " -> epoch : 15\n",
      " -> epoch : 15\n",
      " -> epoch : 13\n",
      " -> epoch : 15\n",
      " -> epoch : 15\n",
      " -> epoch : 15\n",
      " -> epoch : 15\n",
      " -> epoch : 15\n",
      " -> epoch : 15\n",
      " -> epoch : 15\n",
      " -> epoch : 15\n",
      " -> epoch : 14\n",
      " -> epoch : 14\n",
      " -> epoch : 15\n",
      " -> epoch : 15\n",
      " -> epoch : 15\n",
      " -> epoch : 14\n",
      " -> epoch : 15\n",
      " -> epoch : 15\n",
      " -> epoch : 15\n",
      " -> epoch : 15\n",
      " -> epoch : 15\n",
      " -> epoch : 15\n",
      " -> epoch : 15\n",
      " -> epoch : 16\n",
      " -> epoch : 16\n",
      " -> epoch : 13\n",
      " -> epoch : 16\n",
      " -> epoch : 14\n",
      " -> epoch : 16\n",
      " -> epoch : 16\n",
      " -> epoch : 13\n",
      " -> epoch : 16\n",
      " -> epoch : 16\n",
      " -> epoch : 16\n",
      " -> epoch : 13\n",
      " -> epoch : 16\n",
      " -> epoch : 14\n",
      " -> epoch : 16\n",
      " -> epoch : 16\n",
      " -> epoch : 16\n",
      " -> epoch : 16\n",
      " -> epoch : 16\n",
      " -> epoch : 16\n",
      " -> epoch : 15\n",
      " -> epoch : 14\n",
      " -> epoch : 16\n",
      " -> epoch : 16\n",
      " -> epoch : 16\n",
      " -> epoch : 15\n",
      " -> epoch : 16\n",
      " -> epoch : 16\n",
      " -> epoch : 15\n",
      " -> epoch : 16\n",
      " -> epoch : 16\n",
      " -> epoch : 16\n",
      " -> epoch : 16\n",
      " -> epoch : 16\n",
      " -> epoch : 16\n",
      " -> epoch : 16\n",
      " -> epoch : 16\n",
      " -> epoch : 15\n",
      " -> epoch : 16\n",
      " -> epoch : 14\n",
      " -> epoch : 16\n",
      " -> epoch : 16\n",
      " -> epoch : 16\n",
      " -> epoch : 16\n",
      " -> epoch : 16\n",
      " -> epoch : 16\n",
      " -> epoch : 16\n",
      " -> epoch : 11\n",
      " -> epoch : 16\n",
      " -> epoch : 17\n",
      " -> epoch : 17\n",
      " -> epoch : 17\n",
      " -> epoch : 14\n",
      " -> epoch : 17\n",
      " -> epoch : 17\n",
      " -> epoch : 15\n",
      " -> epoch : 17\n",
      " -> epoch : 14\n",
      " -> epoch : 17\n",
      " -> epoch : 17\n",
      " -> epoch : 17\n",
      " -> epoch : 14\n",
      " -> epoch : 17\n",
      " -> epoch : 15\n",
      " -> epoch : 17\n",
      " -> epoch : 17\n",
      " -> epoch : 17\n",
      " -> epoch : 17\n",
      " -> epoch : 17\n",
      " -> epoch : 15\n",
      " -> epoch : 16\n",
      " -> epoch : 16\n",
      " -> epoch : 15\n",
      " -> epoch : 17\n",
      " -> epoch : 17\n",
      " -> epoch : 17\n",
      " -> epoch : 17\n",
      " -> epoch : 17\n",
      " -> epoch : 17\n",
      " -> epoch : 17\n",
      " -> epoch : 17\n",
      " -> epoch : 16\n",
      " -> epoch : 17\n",
      " -> epoch : 17\n",
      " -> epoch : 17\n",
      " -> epoch : 17\n",
      " -> epoch : 17\n",
      " -> epoch : 17\n",
      " -> epoch : 16\n",
      " -> epoch : 17\n",
      " -> epoch : 17\n",
      " -> epoch : 17\n",
      " -> epoch : 17\n",
      " -> epoch : 17\n",
      " -> epoch : 17\n",
      " -> epoch : 17\n",
      " -> epoch : 18\n",
      " -> epoch : 15\n",
      " -> epoch : 15\n",
      " -> epoch : 18\n",
      " -> epoch : 17\n",
      " -> epoch : 18\n",
      " -> epoch : 18\n",
      " -> epoch : 16\n",
      " -> epoch : 12\n",
      " -> epoch : 18\n",
      " -> epoch : 15\n",
      " -> epoch : 18\n",
      " -> epoch : 18\n",
      " -> epoch : 18\n",
      " -> epoch : 18\n",
      " -> epoch : 18\n",
      " -> epoch : 16\n",
      " -> epoch : 15\n",
      " -> epoch : 16\n",
      " -> epoch : 18\n",
      " -> epoch : 18\n",
      " -> epoch : 18\n",
      " -> epoch : 18\n",
      " -> epoch : 18\n",
      " -> epoch : 17\n",
      " -> epoch : 18\n",
      " -> epoch : 18\n",
      " -> epoch : 17\n",
      " -> epoch : 17\n",
      " -> epoch : 18\n",
      " -> epoch : 16\n",
      " -> epoch : 18\n",
      " -> epoch : 18\n",
      " -> epoch : 18\n",
      " -> epoch : 18\n",
      " -> epoch : 18\n",
      " -> epoch : 18\n",
      " -> epoch : 18\n",
      " -> epoch : 18\n",
      " -> epoch : 18\n",
      " -> epoch : 17\n",
      " -> epoch : 18\n",
      " -> epoch : 18\n",
      " -> epoch : 18\n",
      " -> epoch : 18\n",
      " -> epoch : 18\n",
      " -> epoch : 18\n",
      " -> epoch : 18\n",
      " -> epoch : 18\n",
      " -> epoch : 19\n",
      " -> epoch : 16\n",
      " -> epoch : 16\n",
      " -> epoch : 19\n",
      " -> epoch : 19\n",
      " -> epoch : 19\n",
      " -> epoch : 17\n",
      " -> epoch : 19\n",
      " -> epoch : 16\n",
      " -> epoch : 13\n",
      " -> epoch : 19\n",
      " -> epoch : 19\n",
      " -> epoch : 18\n",
      " -> epoch : 19\n",
      " -> epoch : 19\n",
      " -> epoch : 19\n",
      " -> epoch : 17\n",
      " -> epoch : 16\n",
      " -> epoch : 19\n",
      " -> epoch : 18\n",
      " -> epoch : 19\n",
      " -> epoch : 17\n",
      " -> epoch : 19\n",
      " -> epoch : 19\n",
      " -> epoch : 18\n",
      " -> epoch : 19\n",
      " -> epoch : 19\n",
      " -> epoch : 19\n",
      " -> epoch : 19\n",
      " -> epoch : 18\n",
      " -> epoch : 19\n",
      " -> epoch : 19\n",
      " -> epoch : 19\n",
      " -> epoch : 19\n",
      " -> epoch : 19\n",
      " -> epoch : 18\n",
      " -> epoch : 19\n",
      " -> epoch : 19\n",
      " -> epoch : 19\n",
      " -> epoch : 18\n",
      " -> epoch : 19\n",
      " -> epoch : 19\n",
      " -> epoch : 19\n",
      " -> epoch : 19\n",
      " -> epoch : 19\n",
      " -> epoch : 19\n",
      " -> epoch : 19\n",
      " -> epoch : 17\n",
      " -> epoch : 19\n",
      " -> epoch : 17\n",
      " -> epoch : 14\n",
      " -> epoch : 17\n",
      " -> epoch : 19\n",
      " -> epoch : 18\n",
      " -> epoch : 17\n",
      " -> epoch : 19\n",
      " -> epoch : 19\n",
      " -> epoch : 17\n",
      " -> epoch : 18\n",
      " -> epoch : 19\n",
      " -> epoch : 18\n",
      " -> epoch : 19\n",
      " -> epoch : 19\n",
      " -> epoch : 19\n",
      " -> epoch : 18\n",
      " -> epoch : 18\n",
      " -> epoch : 15\n",
      " -> epoch : 18\n",
      " -> epoch : 19\n",
      " -> epoch : 18\n",
      " -> epoch : 19\n",
      " -> epoch : 18\n",
      " -> epoch : 19\n",
      " -> epoch : 19\n",
      " -> epoch : 19\n",
      " -> epoch : 19\n",
      " -> epoch : 16\n",
      " -> epoch : 19\n",
      " -> epoch : 19\n",
      " -> epoch : 17\n",
      " -> epoch : 18\n",
      " -> epoch : 19\n"
     ]
    }
   ],
   "source": [
    "time1 = time.time()\n",
    "nums_list = [i for i in range(number_graphs)]\n",
    "\n",
    "pool = multiprocessing.Pool(processes=90) \n",
    "\n",
    "result = pool.map(RDtest, nums_list)  \n",
    "\n",
    "pool.close()        \n",
    "pool.join()        \n"
   ]
  },
  {
   "cell_type": "code",
   "execution_count": 21,
   "id": "6272883a",
   "metadata": {},
   "outputs": [
    {
     "name": "stdout",
     "output_type": "stream",
     "text": [
      "Time used： 1892.8699824810028\n"
     ]
    }
   ],
   "source": [
    "print(\"Time used：\", time.time()-time1)"
   ]
  },
  {
   "cell_type": "code",
   "execution_count": 22,
   "id": "81d717f2",
   "metadata": {},
   "outputs": [],
   "source": [
    "result_RD = []\n",
    "for k in range(8):\n",
    "    result_ = []\n",
    "    for i in range(0,number_graphs):\n",
    "        result_ = result_ + result[i][k]\n",
    "    result_RD.append( result_ ) "
   ]
  },
  {
   "cell_type": "code",
   "execution_count": 23,
   "id": "8141f838",
   "metadata": {
    "scrolled": true
   },
   "outputs": [],
   "source": [
    "#result_RD = RDtest()"
   ]
  },
  {
   "cell_type": "code",
   "execution_count": 24,
   "id": "74136907",
   "metadata": {},
   "outputs": [],
   "source": [
    "best_tree_index = []\n",
    "\n",
    "for i in range(number_graphs):\n",
    "    qq = []\n",
    "    for j in range(number_trees):\n",
    "        qq.append( result_RD[1][number_trees*i+j] )\n",
    "        if len(qq)==number_trees:\n",
    "            best_tree_index.append( number_trees*i+np.argmax(qq) )"
   ]
  },
  {
   "cell_type": "code",
   "execution_count": 25,
   "id": "427f3d36",
   "metadata": {},
   "outputs": [],
   "source": [
    "acc = result_RD[3]\n",
    "Akinson = result_RD[4]\n",
    "Pietra = result_RD[5]\n",
    "Theil = result_RD[6]"
   ]
  },
  {
   "cell_type": "code",
   "execution_count": 26,
   "id": "f0957367",
   "metadata": {},
   "outputs": [],
   "source": [
    "#np.array( acc[best_tree_index[2]] )"
   ]
  },
  {
   "cell_type": "code",
   "execution_count": 27,
   "id": "16fcc475",
   "metadata": {},
   "outputs": [],
   "source": [
    "#np.array( initial_acc[2] )"
   ]
  },
  {
   "cell_type": "code",
   "execution_count": 28,
   "id": "2bad5651",
   "metadata": {},
   "outputs": [],
   "source": [
    "# acc_new = []\n",
    "# for i in range(len(best_tree_index)):\n",
    "#     index = best_tree_index[i]\n",
    "#     acc[index].sort()\n",
    "#     acc_new.append( acc[index] )"
   ]
  },
  {
   "cell_type": "code",
   "execution_count": 29,
   "id": "511835a5",
   "metadata": {},
   "outputs": [],
   "source": [
    "graph_dic = np.load( 'test_set.npy',allow_pickle=True ).item()\n",
    "\n",
    "graph_dic_test = {}\n",
    "for i in range(number_graphs):\n",
    "    graph_dic_test[i] = graph_dic[i]\n",
    "\n",
    "initial_AWT = []\n",
    "initial_acc = []\n",
    "initial_Akinson = []\n",
    "initial_Pietra = []\n",
    "initial_Theil = []\n",
    "\n",
    "for i in range(number_graphs):\n",
    "    graph_dic_test[i].add_center()\n",
    "    graph_dic_test[i].add_edge_between_centers()\n",
    "    graph_dic_test[i].add_edge_between_centerAnsBusStation()\n",
    "    acc_r = graph_dic_test[i].get_acc()\n",
    "    initial_acc.append( acc_r[1] )\n",
    "    initial_Akinson.append( acc_r[2] )\n",
    "    initial_Pietra.append( acc_r[3] )\n",
    "    initial_Theil.append( acc_r[4] )\n",
    "    initial_AWT.append( graph_dic_test[i].avg_frequency() )"
   ]
  },
  {
   "cell_type": "code",
   "execution_count": 30,
   "id": "bede7b74",
   "metadata": {},
   "outputs": [],
   "source": [
    "dis_map = {}\n",
    "for i in range(len(best_tree_index)):\n",
    "    index = best_tree_index[i]\n",
    "    dis_map[i] = result_RD[7][index]\n",
    "#node_index = np.array([k for k in range(80)])[ np.reshape(dis_map[i].numpy(),-1)  != 0 ]"
   ]
  },
  {
   "cell_type": "code",
   "execution_count": 31,
   "id": "2f979f58",
   "metadata": {},
   "outputs": [],
   "source": [
    "sig_no_yes = []\n",
    "for i in range( number_graphs ):\n",
    "    sig_no_yes = sig_no_yes + list( 1 - np.reshape(dis_map[0].tolist(),-1) )\n",
    "sig_no_yes = np.array( sig_no_yes )\n",
    "    "
   ]
  },
  {
   "cell_type": "code",
   "execution_count": 32,
   "id": "4e23f969",
   "metadata": {},
   "outputs": [
    {
     "data": {
      "text/plain": [
       "array([0., 0., 1., ..., 1., 1., 1.])"
      ]
     },
     "execution_count": 32,
     "metadata": {},
     "output_type": "execute_result"
    }
   ],
   "source": [
    "sig_no_yes"
   ]
  },
  {
   "cell_type": "code",
   "execution_count": 34,
   "id": "6a2640b6",
   "metadata": {},
   "outputs": [],
   "source": [
    "#np.save( 'ef_sig_no_yes.npy',sig_no_yes )"
   ]
  },
  {
   "cell_type": "code",
   "execution_count": 35,
   "id": "60cc26cf",
   "metadata": {},
   "outputs": [],
   "source": [
    "graph_dic = np.load( 'test_set.npy',allow_pickle=True ).item()\n",
    "\n",
    "graph_dic_test = {}\n",
    "for i in range(number_graphs):\n",
    "    graph_dic_test[i] = graph_dic[i]"
   ]
  },
  {
   "cell_type": "code",
   "execution_count": 36,
   "id": "10f5bc4e",
   "metadata": {
    "scrolled": true
   },
   "outputs": [],
   "source": [
    "disFromCenter = []\n",
    "for i in range(number_graphs):\n",
    "    for j in range(80):\n",
    "        b_p = np.array( graph_dic_test[i].bus_pos[j] )\n",
    "        disFromCenter.append( np.linalg.norm( b_p - np.array( [22.5,22.5] ) ) )\n",
    "disFromCenter = np.array( disFromCenter )"
   ]
  },
  {
   "cell_type": "code",
   "execution_count": 37,
   "id": "21d74388",
   "metadata": {},
   "outputs": [],
   "source": [
    "import pandas as pd\n",
    "df = pd.DataFrame( { 'disFromCenter':disFromCenter,'sig_no_yes':sig_no_yes } )"
   ]
  },
  {
   "cell_type": "code",
   "execution_count": 38,
   "id": "a485666e",
   "metadata": {},
   "outputs": [],
   "source": [
    "df = df.sort_values(by=['disFromCenter'])"
   ]
  },
  {
   "cell_type": "code",
   "execution_count": 39,
   "id": "6c090f14",
   "metadata": {},
   "outputs": [],
   "source": [
    "df_1 = df[ df['sig_no_yes']==1 ]"
   ]
  },
  {
   "cell_type": "code",
   "execution_count": 40,
   "id": "41fcdeb7",
   "metadata": {},
   "outputs": [],
   "source": [
    "#*100m  Nb of Bus stops\n",
    "#0->5   641\n",
    "#5->10  1176\n",
    "#10->15 1059\n",
    "#15->20 713\n",
    "#20->25 328\n",
    "#25->30 79\n",
    "#30->35 4"
   ]
  },
  {
   "cell_type": "code",
   "execution_count": 41,
   "id": "2ba96613",
   "metadata": {
    "scrolled": false
   },
   "outputs": [
    {
     "ename": "NameError",
     "evalue": "name 'x_0' is not defined",
     "output_type": "error",
     "traceback": [
      "\u001b[0;31m---------------------------------------------------------------------------\u001b[0m",
      "\u001b[0;31mNameError\u001b[0m                                 Traceback (most recent call last)",
      "\u001b[0;32m/tmp/ipykernel_1624839/3582354302.py\u001b[0m in \u001b[0;36m<module>\u001b[0;34m\u001b[0m\n\u001b[0;32m----> 1\u001b[0;31m \u001b[0mplt\u001b[0m\u001b[0;34m.\u001b[0m\u001b[0mplot\u001b[0m\u001b[0;34m(\u001b[0m \u001b[0mnp\u001b[0m\u001b[0;34m.\u001b[0m\u001b[0marray\u001b[0m\u001b[0;34m(\u001b[0m\u001b[0mx_0\u001b[0m\u001b[0;34m)\u001b[0m\u001b[0;34m,\u001b[0m\u001b[0mnp\u001b[0m\u001b[0;34m.\u001b[0m\u001b[0mcumsum\u001b[0m\u001b[0;34m(\u001b[0m \u001b[0mdf\u001b[0m\u001b[0;34m[\u001b[0m\u001b[0;34m'sig_no_yes'\u001b[0m\u001b[0;34m]\u001b[0m\u001b[0;34m.\u001b[0m\u001b[0mvalues\u001b[0m \u001b[0;34m)\u001b[0m\u001b[0;34m/\u001b[0m\u001b[0;36m4000\u001b[0m\u001b[0;34m,\u001b[0m \u001b[0;34m)\u001b[0m\u001b[0;34m\u001b[0m\u001b[0;34m\u001b[0m\u001b[0m\n\u001b[0m\u001b[1;32m      2\u001b[0m \u001b[0mplt\u001b[0m\u001b[0;34m.\u001b[0m\u001b[0mplot\u001b[0m\u001b[0;34m(\u001b[0m \u001b[0mnp\u001b[0m\u001b[0;34m.\u001b[0m\u001b[0marray\u001b[0m\u001b[0;34m(\u001b[0m\u001b[0mx_0\u001b[0m\u001b[0;34m)\u001b[0m\u001b[0;34m,\u001b[0m\u001b[0mnp\u001b[0m\u001b[0;34m.\u001b[0m\u001b[0mcumsum\u001b[0m\u001b[0;34m(\u001b[0m \u001b[0;36m1\u001b[0m \u001b[0;34m-\u001b[0m \u001b[0mdf\u001b[0m\u001b[0;34m[\u001b[0m\u001b[0;34m'sig_no_yes'\u001b[0m\u001b[0;34m]\u001b[0m\u001b[0;34m.\u001b[0m\u001b[0mvalues\u001b[0m \u001b[0;34m)\u001b[0m\u001b[0;34m/\u001b[0m\u001b[0;36m4000\u001b[0m\u001b[0;34m)\u001b[0m\u001b[0;34m\u001b[0m\u001b[0;34m\u001b[0m\u001b[0m\n",
      "\u001b[0;31mNameError\u001b[0m: name 'x_0' is not defined"
     ]
    }
   ],
   "source": [
    "plt.plot( np.array(x_0),np.cumsum( df['sig_no_yes'].values )/4000, )\n",
    "plt.plot( np.array(x_0),np.cumsum( 1 - df['sig_no_yes'].values )/4000)"
   ]
  },
  {
   "cell_type": "code",
   "execution_count": null,
   "id": "5999a9db",
   "metadata": {},
   "outputs": [],
   "source": [
    "x_0 = list( df['disFromCenter'].values *100 )\n",
    "y_0 = list( np.cumsum( df['sig_no_yes'].values )/4000 )\n",
    "dx_0 = np.diff(x_0)\n",
    "dy_0 = np.diff(y_0)\n",
    "d_0 = dy_0/dx_0"
   ]
  },
  {
   "cell_type": "code",
   "execution_count": 42,
   "id": "274f682b",
   "metadata": {},
   "outputs": [
    {
     "ename": "NameError",
     "evalue": "name 'x_0' is not defined",
     "output_type": "error",
     "traceback": [
      "\u001b[0;31m---------------------------------------------------------------------------\u001b[0m",
      "\u001b[0;31mNameError\u001b[0m                                 Traceback (most recent call last)",
      "\u001b[0;32m/tmp/ipykernel_1624839/2867874210.py\u001b[0m in \u001b[0;36m<module>\u001b[0;34m\u001b[0m\n\u001b[0;32m----> 1\u001b[0;31m \u001b[0mplt\u001b[0m\u001b[0;34m.\u001b[0m\u001b[0mplot\u001b[0m\u001b[0;34m(\u001b[0m \u001b[0mnp\u001b[0m\u001b[0;34m.\u001b[0m\u001b[0marray\u001b[0m\u001b[0;34m(\u001b[0m\u001b[0mx_0\u001b[0m\u001b[0;34m[\u001b[0m\u001b[0;34m:\u001b[0m\u001b[0;36m3999\u001b[0m\u001b[0;34m]\u001b[0m\u001b[0;34m)\u001b[0m\u001b[0;34m,\u001b[0m\u001b[0mnp\u001b[0m\u001b[0;34m.\u001b[0m\u001b[0marray\u001b[0m\u001b[0;34m(\u001b[0m\u001b[0md_0\u001b[0m\u001b[0;34m)\u001b[0m\u001b[0;34m)\u001b[0m\u001b[0;34m\u001b[0m\u001b[0;34m\u001b[0m\u001b[0m\n\u001b[0m",
      "\u001b[0;31mNameError\u001b[0m: name 'x_0' is not defined"
     ]
    }
   ],
   "source": [
    "plt.plot( np.array(x_0[:3999]),np.array(d_0))"
   ]
  },
  {
   "cell_type": "code",
   "execution_count": 43,
   "id": "22572da3",
   "metadata": {},
   "outputs": [
    {
     "ename": "NameError",
     "evalue": "name 'x_0' is not defined",
     "output_type": "error",
     "traceback": [
      "\u001b[0;31m---------------------------------------------------------------------------\u001b[0m",
      "\u001b[0;31mNameError\u001b[0m                                 Traceback (most recent call last)",
      "\u001b[0;32m/tmp/ipykernel_1624839/1122664455.py\u001b[0m in \u001b[0;36m<module>\u001b[0;34m\u001b[0m\n\u001b[0;32m----> 1\u001b[0;31m \u001b[0mmax\u001b[0m\u001b[0;34m(\u001b[0m \u001b[0mx_0\u001b[0m \u001b[0;34m)\u001b[0m\u001b[0;34m\u001b[0m\u001b[0;34m\u001b[0m\u001b[0m\n\u001b[0m",
      "\u001b[0;31mNameError\u001b[0m: name 'x_0' is not defined"
     ]
    }
   ],
   "source": [
    "max( x_0 )"
   ]
  },
  {
   "cell_type": "code",
   "execution_count": 44,
   "id": "66a365ba",
   "metadata": {},
   "outputs": [
    {
     "ename": "NameError",
     "evalue": "name 'x_0' is not defined",
     "output_type": "error",
     "traceback": [
      "\u001b[0;31m---------------------------------------------------------------------------\u001b[0m",
      "\u001b[0;31mNameError\u001b[0m                                 Traceback (most recent call last)",
      "\u001b[0;32m/tmp/ipykernel_1624839/2838625322.py\u001b[0m in \u001b[0;36m<module>\u001b[0;34m\u001b[0m\n\u001b[0;32m----> 1\u001b[0;31m \u001b[0mx_1\u001b[0m \u001b[0;34m=\u001b[0m \u001b[0mnp\u001b[0m\u001b[0;34m.\u001b[0m\u001b[0mlinspace\u001b[0m\u001b[0;34m(\u001b[0m\u001b[0mmin\u001b[0m\u001b[0;34m(\u001b[0m \u001b[0mx_0\u001b[0m \u001b[0;34m)\u001b[0m\u001b[0;34m,\u001b[0m \u001b[0mmax\u001b[0m\u001b[0;34m(\u001b[0m \u001b[0mx_0\u001b[0m \u001b[0;34m)\u001b[0m\u001b[0;34m,\u001b[0m \u001b[0mnum\u001b[0m\u001b[0;34m=\u001b[0m\u001b[0;36m100000\u001b[0m\u001b[0;34m)\u001b[0m\u001b[0;34m\u001b[0m\u001b[0;34m\u001b[0m\u001b[0m\n\u001b[0m",
      "\u001b[0;31mNameError\u001b[0m: name 'x_0' is not defined"
     ]
    }
   ],
   "source": [
    "x_1 = np.linspace(min( x_0 ), max( x_0 ), num=100000)"
   ]
  },
  {
   "cell_type": "code",
   "execution_count": 45,
   "id": "c9633e5d",
   "metadata": {},
   "outputs": [
    {
     "ename": "NameError",
     "evalue": "name 'x_1' is not defined",
     "output_type": "error",
     "traceback": [
      "\u001b[0;31m---------------------------------------------------------------------------\u001b[0m",
      "\u001b[0;31mNameError\u001b[0m                                 Traceback (most recent call last)",
      "\u001b[0;32m/tmp/ipykernel_1624839/1612858713.py\u001b[0m in \u001b[0;36m<module>\u001b[0;34m\u001b[0m\n\u001b[1;32m      1\u001b[0m \u001b[0my_1\u001b[0m \u001b[0;34m=\u001b[0m \u001b[0;34m[\u001b[0m\u001b[0;34m]\u001b[0m\u001b[0;34m\u001b[0m\u001b[0;34m\u001b[0m\u001b[0m\n\u001b[1;32m      2\u001b[0m \u001b[0mmin_index\u001b[0m \u001b[0;34m=\u001b[0m \u001b[0;36m0\u001b[0m\u001b[0;34m\u001b[0m\u001b[0;34m\u001b[0m\u001b[0m\n\u001b[0;32m----> 3\u001b[0;31m \u001b[0;32mfor\u001b[0m \u001b[0mi\u001b[0m \u001b[0;32min\u001b[0m \u001b[0mx_1\u001b[0m\u001b[0;34m:\u001b[0m\u001b[0;34m\u001b[0m\u001b[0;34m\u001b[0m\u001b[0m\n\u001b[0m\u001b[1;32m      4\u001b[0m     \u001b[0;32mwhile\u001b[0m \u001b[0mx_0\u001b[0m\u001b[0;34m[\u001b[0m\u001b[0mmin_index\u001b[0m\u001b[0;34m]\u001b[0m \u001b[0;34m<\u001b[0m \u001b[0mi\u001b[0m\u001b[0;34m:\u001b[0m\u001b[0;34m\u001b[0m\u001b[0;34m\u001b[0m\u001b[0m\n\u001b[1;32m      5\u001b[0m         \u001b[0mmin_index\u001b[0m \u001b[0;34m=\u001b[0m \u001b[0mmin_index\u001b[0m\u001b[0;34m+\u001b[0m\u001b[0;36m1\u001b[0m\u001b[0;34m\u001b[0m\u001b[0;34m\u001b[0m\u001b[0m\n",
      "\u001b[0;31mNameError\u001b[0m: name 'x_1' is not defined"
     ]
    }
   ],
   "source": [
    "y_1 = []\n",
    "min_index = 0 \n",
    "for i in x_1:\n",
    "    while x_0[min_index] < i:\n",
    "        min_index = min_index+1\n",
    "    y_1.append( y_0[min_index-1] + (y_0[min_index]-y_0[min_index-1])/(x_0[min_index]-x_0[min_index-1])*( i - x_0[min_index-1] ) )"
   ]
  },
  {
   "cell_type": "code",
   "execution_count": 46,
   "id": "9b7649a8",
   "metadata": {},
   "outputs": [
    {
     "ename": "NameError",
     "evalue": "name 'x_1' is not defined",
     "output_type": "error",
     "traceback": [
      "\u001b[0;31m---------------------------------------------------------------------------\u001b[0m",
      "\u001b[0;31mNameError\u001b[0m                                 Traceback (most recent call last)",
      "\u001b[0;32m/tmp/ipykernel_1624839/3025553389.py\u001b[0m in \u001b[0;36m<module>\u001b[0;34m\u001b[0m\n\u001b[0;32m----> 1\u001b[0;31m \u001b[0mplt\u001b[0m\u001b[0;34m.\u001b[0m\u001b[0mplot\u001b[0m\u001b[0;34m(\u001b[0m \u001b[0mnp\u001b[0m\u001b[0;34m.\u001b[0m\u001b[0marray\u001b[0m\u001b[0;34m(\u001b[0m\u001b[0mx_1\u001b[0m\u001b[0;34m)\u001b[0m\u001b[0;34m,\u001b[0m\u001b[0mnp\u001b[0m\u001b[0;34m.\u001b[0m\u001b[0marray\u001b[0m\u001b[0;34m(\u001b[0m\u001b[0my_1\u001b[0m\u001b[0;34m)\u001b[0m\u001b[0;34m)\u001b[0m\u001b[0;34m\u001b[0m\u001b[0;34m\u001b[0m\u001b[0m\n\u001b[0m",
      "\u001b[0;31mNameError\u001b[0m: name 'x_1' is not defined"
     ]
    }
   ],
   "source": [
    "plt.plot( np.array(x_1),np.array(y_1))"
   ]
  },
  {
   "cell_type": "code",
   "execution_count": 47,
   "id": "1bb27064",
   "metadata": {},
   "outputs": [
    {
     "ename": "NameError",
     "evalue": "name 'x_1' is not defined",
     "output_type": "error",
     "traceback": [
      "\u001b[0;31m---------------------------------------------------------------------------\u001b[0m",
      "\u001b[0;31mNameError\u001b[0m                                 Traceback (most recent call last)",
      "\u001b[0;32m/tmp/ipykernel_1624839/1588727696.py\u001b[0m in \u001b[0;36m<module>\u001b[0;34m\u001b[0m\n\u001b[0;32m----> 1\u001b[0;31m \u001b[0mdx_1\u001b[0m \u001b[0;34m=\u001b[0m \u001b[0mnp\u001b[0m\u001b[0;34m.\u001b[0m\u001b[0mdiff\u001b[0m\u001b[0;34m(\u001b[0m\u001b[0mx_1\u001b[0m\u001b[0;34m)\u001b[0m\u001b[0;34m\u001b[0m\u001b[0;34m\u001b[0m\u001b[0m\n\u001b[0m\u001b[1;32m      2\u001b[0m \u001b[0mdy_1\u001b[0m \u001b[0;34m=\u001b[0m \u001b[0mnp\u001b[0m\u001b[0;34m.\u001b[0m\u001b[0mdiff\u001b[0m\u001b[0;34m(\u001b[0m\u001b[0my_1\u001b[0m\u001b[0;34m)\u001b[0m\u001b[0;34m\u001b[0m\u001b[0;34m\u001b[0m\u001b[0m\n\u001b[1;32m      3\u001b[0m \u001b[0md_1\u001b[0m \u001b[0;34m=\u001b[0m \u001b[0mdy_1\u001b[0m\u001b[0;34m/\u001b[0m\u001b[0mdx_1\u001b[0m\u001b[0;34m\u001b[0m\u001b[0;34m\u001b[0m\u001b[0m\n",
      "\u001b[0;31mNameError\u001b[0m: name 'x_1' is not defined"
     ]
    }
   ],
   "source": [
    "dx_1 = np.diff(x_1)\n",
    "dy_1 = np.diff(y_1)\n",
    "d_1 = dy_1/dx_1"
   ]
  },
  {
   "cell_type": "code",
   "execution_count": 48,
   "id": "fd8d9ee5",
   "metadata": {},
   "outputs": [
    {
     "ename": "NameError",
     "evalue": "name 'x_1' is not defined",
     "output_type": "error",
     "traceback": [
      "\u001b[0;31m---------------------------------------------------------------------------\u001b[0m",
      "\u001b[0;31mNameError\u001b[0m                                 Traceback (most recent call last)",
      "\u001b[0;32m/tmp/ipykernel_1624839/2388629207.py\u001b[0m in \u001b[0;36m<module>\u001b[0;34m\u001b[0m\n\u001b[0;32m----> 1\u001b[0;31m \u001b[0mplt\u001b[0m\u001b[0;34m.\u001b[0m\u001b[0mplot\u001b[0m\u001b[0;34m(\u001b[0m \u001b[0mnp\u001b[0m\u001b[0;34m.\u001b[0m\u001b[0marray\u001b[0m\u001b[0;34m(\u001b[0m\u001b[0mx_1\u001b[0m\u001b[0;34m[\u001b[0m\u001b[0;34m:\u001b[0m\u001b[0;36m99999\u001b[0m\u001b[0;34m]\u001b[0m\u001b[0;34m)\u001b[0m\u001b[0;34m,\u001b[0m\u001b[0mnp\u001b[0m\u001b[0;34m.\u001b[0m\u001b[0marray\u001b[0m\u001b[0;34m(\u001b[0m\u001b[0md_1\u001b[0m\u001b[0;34m)\u001b[0m\u001b[0;34m)\u001b[0m\u001b[0;34m\u001b[0m\u001b[0;34m\u001b[0m\u001b[0m\n\u001b[0m",
      "\u001b[0;31mNameError\u001b[0m: name 'x_1' is not defined"
     ]
    }
   ],
   "source": [
    "plt.plot( np.array(x_1[:99999]),np.array(d_1))"
   ]
  },
  {
   "cell_type": "code",
   "execution_count": null,
   "id": "5fb09f18",
   "metadata": {},
   "outputs": [],
   "source": []
  },
  {
   "cell_type": "code",
   "execution_count": null,
   "id": "baf24193",
   "metadata": {},
   "outputs": [],
   "source": [
    "df_1"
   ]
  },
  {
   "cell_type": "code",
   "execution_count": null,
   "id": "21a57dee",
   "metadata": {},
   "outputs": [],
   "source": [
    "x_2 = list( df_1['disFromCenter'].values )\n",
    "y_2 = list( list( np.cumsum( df_1['sig_no_yes'].values )/2000 )  )\n",
    "dx_2 = np.diff(x_2)\n",
    "dy_2 = np.diff(y_2)\n",
    "d_2 = dy_2/dx_2"
   ]
  },
  {
   "cell_type": "code",
   "execution_count": null,
   "id": "8b94dc5e",
   "metadata": {
    "scrolled": true
   },
   "outputs": [],
   "source": [
    "plt.plot( np.array(x_2),np.array(y_2))"
   ]
  },
  {
   "cell_type": "code",
   "execution_count": null,
   "id": "91a5b174",
   "metadata": {},
   "outputs": [],
   "source": [
    "plt.plot( np.array(x_2[:1999]),np.array(d_2))"
   ]
  },
  {
   "cell_type": "code",
   "execution_count": null,
   "id": "5845c4ad",
   "metadata": {},
   "outputs": [],
   "source": [
    "d_3 = dx_2/dy_2"
   ]
  },
  {
   "cell_type": "code",
   "execution_count": null,
   "id": "0051d224",
   "metadata": {},
   "outputs": [],
   "source": [
    "plt.plot( np.array(x_2[:1999]),np.array(d_3))"
   ]
  },
  {
   "cell_type": "code",
   "execution_count": null,
   "id": "4190094f",
   "metadata": {},
   "outputs": [],
   "source": []
  },
  {
   "cell_type": "code",
   "execution_count": null,
   "id": "da34da25",
   "metadata": {},
   "outputs": [],
   "source": []
  },
  {
   "cell_type": "code",
   "execution_count": null,
   "id": "cfc889bc",
   "metadata": {},
   "outputs": [],
   "source": [
    "disbefore = []\n",
    "disafter = []\n",
    "for i in range(number_graphs):\n",
    "\n",
    "    node_index = np.array([k for k in range(80)])[ np.reshape(dis_map[i].numpy(),-1)  != 0 ]\n",
    "\n",
    "    def df( array_a , i ):    \n",
    "        map_ = graph_dic_test[i].all_pos\n",
    "        map_1 = {}\n",
    "        map_2 = {}\n",
    "        map_3 = {}\n",
    "        map_4 = {}\n",
    "        map_5 = {}\n",
    "        map_6 = {}\n",
    "        map_7 = {}\n",
    "        map_8 = {}\n",
    "        line_1 = array_a[ array_a <10 ]\n",
    "        for i in line_1:\n",
    "            map_1[i] = map_[i]\n",
    "\n",
    "        array_b = array_a[ array_a >=10 ]\n",
    "        line_2 = array_b[ array_b <20 ]\n",
    "        for i in line_2:\n",
    "            map_2[i] = map_[i]\n",
    "\n",
    "        array_b = array_a[ array_a >=20 ]\n",
    "        line_3 = array_b[ array_b <30 ]\n",
    "        for i in line_3:\n",
    "            map_3[i] = map_[i]\n",
    "\n",
    "        array_b = array_a[ array_a >=30 ]\n",
    "        line_4 = array_b[ array_b <40 ]\n",
    "        for i in line_4:\n",
    "            map_4[i] = map_[i]\n",
    "\n",
    "        array_b = array_a[ array_a >=40 ]\n",
    "        line_5 = array_b[ array_b <50 ]\n",
    "        for i in line_5:\n",
    "            map_5[i] = map_[i]\n",
    "\n",
    "        array_b = array_a[ array_a >=50 ]\n",
    "        line_6 = array_b[ array_b <60 ]\n",
    "        for i in line_6:\n",
    "            map_6[i] = map_[i]\n",
    "\n",
    "        array_b = array_a[ array_a >=60 ]\n",
    "        line_7 = array_b[ array_b <70 ]\n",
    "        for i in line_7:\n",
    "            map_7[i] = map_[i] \n",
    "\n",
    "        array_b = array_a[ array_a >=70 ]\n",
    "        line_8 = array_b[ array_b <80 ]\n",
    "        for i in line_8:\n",
    "            map_8[i] = map_[i]\n",
    "        #create  bus_line\n",
    "        bus_line_1 = bus_line.Bus_line( 1,1, list(line_1), map_1)\n",
    "        bus_line_2 = bus_line.Bus_line( 2,1, list(line_2), map_2)\n",
    "        bus_line_3 = bus_line.Bus_line( 3,1, list(line_3), map_3)\n",
    "        bus_line_4 = bus_line.Bus_line( 4,1, list(line_4), map_4)\n",
    "        bus_line_5 = bus_line.Bus_line( 5,1, list(line_5), map_5)\n",
    "        bus_line_6 = bus_line.Bus_line( 6,1, list(line_6), map_6)\n",
    "        bus_line_7 = bus_line.Bus_line( 7,1, list(line_7), map_7)\n",
    "        bus_line_8 = bus_line.Bus_line( 8,1, list(line_8), map_8)\n",
    "        list_dis = []\n",
    "\n",
    "        list_dis = list_dis + bus_line_1.times\n",
    "        list_dis = list_dis + bus_line_2.times\n",
    "        list_dis = list_dis + bus_line_3.times\n",
    "        list_dis = list_dis + bus_line_4.times\n",
    "        list_dis = list_dis + bus_line_5.times\n",
    "        list_dis = list_dis + bus_line_6.times\n",
    "        list_dis = list_dis + bus_line_7.times\n",
    "        list_dis = list_dis + bus_line_8.times\n",
    "    #     for connection in graph_dic_test[i].list_connection:\n",
    "    #         if connection[0] in array_a and connection[1] in array_a:\n",
    "    #             travel_time = np.linalg.norm(np.array( graph_dic_test[i].all_pos[connection[0]] )-np.array( graph_dic_test[i].all_pos[connection[1]] ))*100/300\n",
    "    #             list_dis.append( travel_time )\n",
    "\n",
    "        return list_dis\n",
    "\n",
    "    dis_before = np.array(df( np.array([j for j in range(80)]),i ))*300\n",
    "    dis_after = np.array(df( node_index,i ))*300\n",
    "    \n",
    "    disbefore.append( dis_before )\n",
    "    disafter.append( dis_after )"
   ]
  },
  {
   "cell_type": "code",
   "execution_count": null,
   "id": "1bb9c60d",
   "metadata": {},
   "outputs": [],
   "source": [
    "node_index = np.array([k for k in range(80)])[ np.reshape(dis_map[0].numpy(),-1)  != 0 ]"
   ]
  },
  {
   "cell_type": "code",
   "execution_count": null,
   "id": "80be4eb9",
   "metadata": {},
   "outputs": [],
   "source": [
    "node_index"
   ]
  },
  {
   "cell_type": "code",
   "execution_count": null,
   "id": "6bbd23c8",
   "metadata": {},
   "outputs": [],
   "source": [
    "len( node_index )"
   ]
  },
  {
   "cell_type": "code",
   "execution_count": null,
   "id": "32a9d755",
   "metadata": {},
   "outputs": [],
   "source": [
    "graph_dic = np.load( 'test_set.npy',allow_pickle=True ).item()\n",
    "\n",
    "graph_dic_test = {}\n",
    "for i in range(number_graphs):\n",
    "    graph_dic_test[i] = graph_dic[i]"
   ]
  },
  {
   "cell_type": "code",
   "execution_count": null,
   "id": "c890f879",
   "metadata": {},
   "outputs": [],
   "source": [
    "y_pos = []\n",
    "x_pos = []\n",
    "for i in range(80):\n",
    "    list_i = []\n",
    "    for j in graph_dic_test[0].neighbors(i):\n",
    "        list_i.append( np.linalg.norm( np.array( graph_dic_test[0].all_pos[i] )- np.array( graph_dic_test[0].all_pos[j] ) ) )\n",
    "    y_pos.append( np.min(list_i) )\n",
    "    x_pos.append( np.linalg.norm(np.array( graph_dic_test[0].all_pos[i])- np.array( [22.5,22.5] ) ) )"
   ]
  },
  {
   "cell_type": "code",
   "execution_count": null,
   "id": "c9ee71a3",
   "metadata": {},
   "outputs": [],
   "source": [
    "len( y_pos )"
   ]
  },
  {
   "cell_type": "code",
   "execution_count": null,
   "id": "a2b98bf8",
   "metadata": {},
   "outputs": [],
   "source": [
    "len( x_pos )"
   ]
  },
  {
   "cell_type": "code",
   "execution_count": null,
   "id": "f3d1201a",
   "metadata": {},
   "outputs": [],
   "source": [
    "#initial\n",
    "plt.scatter( x_pos,y_pos )"
   ]
  },
  {
   "cell_type": "code",
   "execution_count": null,
   "id": "3d4e40b0",
   "metadata": {},
   "outputs": [],
   "source": []
  },
  {
   "cell_type": "code",
   "execution_count": null,
   "id": "57a3a547",
   "metadata": {},
   "outputs": [],
   "source": []
  },
  {
   "cell_type": "code",
   "execution_count": null,
   "id": "fd072c3b",
   "metadata": {},
   "outputs": [],
   "source": []
  },
  {
   "cell_type": "code",
   "execution_count": null,
   "id": "f367d503",
   "metadata": {},
   "outputs": [],
   "source": []
  },
  {
   "cell_type": "code",
   "execution_count": null,
   "id": "f546d146",
   "metadata": {},
   "outputs": [],
   "source": []
  },
  {
   "cell_type": "code",
   "execution_count": null,
   "id": "60c51534",
   "metadata": {},
   "outputs": [],
   "source": []
  },
  {
   "cell_type": "code",
   "execution_count": null,
   "id": "944aca42",
   "metadata": {},
   "outputs": [],
   "source": []
  },
  {
   "cell_type": "code",
   "execution_count": null,
   "id": "7e2ffe9c",
   "metadata": {},
   "outputs": [],
   "source": [
    "len( disbefore[0] )"
   ]
  },
  {
   "cell_type": "code",
   "execution_count": null,
   "id": "63dd97ef",
   "metadata": {},
   "outputs": [],
   "source": [
    "len( disafter[0] )"
   ]
  },
  {
   "cell_type": "markdown",
   "id": "7d43e21f",
   "metadata": {},
   "source": [
    "# Results"
   ]
  },
  {
   "cell_type": "markdown",
   "id": "dcf0e13b",
   "metadata": {},
   "source": [
    "## 1 indexs"
   ]
  },
  {
   "cell_type": "code",
   "execution_count": null,
   "id": "cacfd6d4",
   "metadata": {},
   "outputs": [],
   "source": [
    "import seaborn as sns"
   ]
  },
  {
   "cell_type": "code",
   "execution_count": null,
   "id": "8e8f8884",
   "metadata": {},
   "outputs": [],
   "source": [
    "#Akinson\n",
    "Akinson_diff = {}\n",
    "for i in range(len(best_tree_index)):\n",
    "    index = best_tree_index[i]\n",
    "    Akinson_diff[i] = Akinson[index]\n",
    "# Akinson\n",
    "\n",
    "kwargs = {'cumulative': True}\n",
    "sns.distplot(np.array( list( Akinson_diff.values() ) ), hist_kws=kwargs, kde_kws=kwargs,color = 'black')"
   ]
  },
  {
   "cell_type": "code",
   "execution_count": null,
   "id": "1c986756",
   "metadata": {},
   "outputs": [],
   "source": [
    "#Pietra\n",
    "Pietra_diff = {}\n",
    "for i in range(len(best_tree_index)):\n",
    "    index = best_tree_index[i]\n",
    "    Pietra_diff[i] = Pietra[index] \n",
    "\n",
    "kwargs = {'cumulative': True}\n",
    "sns.distplot(np.array( list( Pietra_diff.values() ) ), hist_kws=kwargs, kde_kws=kwargs,color = 'black')"
   ]
  },
  {
   "cell_type": "code",
   "execution_count": null,
   "id": "11a5648b",
   "metadata": {},
   "outputs": [],
   "source": [
    "#Theil\n",
    "Theil_diff = {}\n",
    "for i in range(len(best_tree_index)):\n",
    "    index = best_tree_index[i]\n",
    "    Theil_diff[i] = Theil[index] \n",
    "\n",
    "kwargs = {'cumulative': True}\n",
    "sns.distplot(np.array( list( Theil_diff.values() ) ), hist_kws=kwargs, kde_kws=kwargs,color = 'black')"
   ]
  },
  {
   "cell_type": "markdown",
   "id": "b9ca8588",
   "metadata": {},
   "source": [
    "## 2 Top5"
   ]
  },
  {
   "cell_type": "code",
   "execution_count": null,
   "id": "82d684da",
   "metadata": {},
   "outputs": [],
   "source": [
    "Inacc_best = []\n",
    "Inacc_0 = []\n",
    "save_time = []\n",
    "save_time_rate = []\n",
    "for i in range(len(best_tree_index)):\n",
    "    index = best_tree_index[i]\n",
    "    acc[index].sort(reverse=True)\n",
    "    initial_acc[i].sort(reverse=True)\n",
    "    Inacc_best.append( np.mean( acc[index][:5] ) )\n",
    "    Inacc_0.append( np.mean( initial_acc[i][:5] ) )\n",
    "    save_time.append(   np.mean( acc[index][:5] ) -np.mean( initial_acc[i][:5] )   )\n",
    "    save_time_rate.append( ( np.mean( acc[index][:5] )-np.mean( initial_acc[i][:5] ) )/np.mean( initial_acc[i][:5] ) )"
   ]
  },
  {
   "cell_type": "code",
   "execution_count": null,
   "id": "fdd0f86b",
   "metadata": {},
   "outputs": [],
   "source": [
    "sns.distplot(np.array( save_time ),color=\"black\")"
   ]
  },
  {
   "cell_type": "code",
   "execution_count": null,
   "id": "d0fe8813",
   "metadata": {
    "scrolled": false
   },
   "outputs": [],
   "source": [
    "kwargs = {'cumulative': True}\n",
    "sns.distplot(np.array( save_time ), hist_kws=kwargs, kde_kws=kwargs,color = 'black')"
   ]
  },
  {
   "cell_type": "code",
   "execution_count": null,
   "id": "1b98f871",
   "metadata": {},
   "outputs": [],
   "source": [
    "kwargs = {'cumulative': True}\n",
    "sns.distplot(np.array( save_time_rate ), hist_kws=kwargs, kde_kws=kwargs,color = 'black')"
   ]
  },
  {
   "cell_type": "code",
   "execution_count": null,
   "id": "76b61273",
   "metadata": {},
   "outputs": [],
   "source": [
    "sns.distplot(np.array( Inacc_best ), hist_kws=kwargs, kde_kws=kwargs,color = 'black')\n",
    "sns.distplot(np.array( Inacc_0 ), hist_kws=kwargs, kde_kws=kwargs,color = 'grey')"
   ]
  },
  {
   "cell_type": "code",
   "execution_count": null,
   "id": "b0e65cff",
   "metadata": {},
   "outputs": [],
   "source": [
    "from scipy import stats\n",
    "df = len(np.array( save_time )) - 1\n",
    "alpha= 0.05\n",
    "ci = stats.t.interval(alpha, df, loc=np.mean(np.array( save_time )), scale=stats.sem(np.array( save_time ))) \n",
    "ci # 90% in ci"
   ]
  },
  {
   "cell_type": "code",
   "execution_count": null,
   "id": "ca8dfc5d",
   "metadata": {},
   "outputs": [],
   "source": [
    "df = len(np.array( save_time_rate )) - 1\n",
    "alpha= 0.05\n",
    "ci = stats.t.interval(alpha, df, loc=np.mean(np.array( save_time_rate )), scale=stats.sem(np.array( save_time_rate ))) \n",
    "ci # 90% in ci"
   ]
  },
  {
   "cell_type": "markdown",
   "id": "9e9ab812",
   "metadata": {},
   "source": [
    "### 2.2 All acc"
   ]
  },
  {
   "cell_type": "code",
   "execution_count": null,
   "id": "606c80b6",
   "metadata": {},
   "outputs": [],
   "source": [
    "save_time_all = []\n",
    "save_time_rate_all = []\n",
    "for i in range(len(best_tree_index)):\n",
    "    index = best_tree_index[i]\n",
    "    acc[index].sort(reverse=True)\n",
    "    initial_acc[i].sort(reverse=True)\n",
    "    save_time_all.append(   np.mean( acc[index] ) -np.mean( initial_acc[i] )   )\n",
    "    save_time_rate_all.append( ( np.mean( acc[index] )-np.mean( initial_acc[i] ) )/np.mean( initial_acc[i] ) )"
   ]
  },
  {
   "cell_type": "code",
   "execution_count": null,
   "id": "892a7657",
   "metadata": {},
   "outputs": [],
   "source": [
    "df = len(np.array( save_time_all )) - 1\n",
    "alpha= 0.05\n",
    "ci = stats.t.interval(alpha, df, loc=np.mean(np.array( save_time_all )), scale=stats.sem(np.array( save_time_all ))) \n",
    "ci # 90% in ci"
   ]
  },
  {
   "cell_type": "code",
   "execution_count": null,
   "id": "e947be46",
   "metadata": {},
   "outputs": [],
   "source": [
    "df = len(np.array( save_time_rate_all )) - 1\n",
    "alpha= 0.05\n",
    "ci = stats.t.interval(alpha, df, loc=np.mean(np.array( save_time_rate_all )), scale=stats.sem(np.array( save_time_rate_all ))) \n",
    "ci # 90% in ci"
   ]
  },
  {
   "cell_type": "markdown",
   "id": "08d8fb9e",
   "metadata": {},
   "source": [
    "## 3 Frequency"
   ]
  },
  {
   "cell_type": "code",
   "execution_count": null,
   "id": "f3229877",
   "metadata": {},
   "outputs": [],
   "source": [
    "list_AWT = result_RD[2] #headway = 1/frequency and average_waiting_time(AWT) = headway/2"
   ]
  },
  {
   "cell_type": "code",
   "execution_count": null,
   "id": "b7ff8fa9",
   "metadata": {},
   "outputs": [],
   "source": [
    "np.shape( list_AWT )"
   ]
  },
  {
   "cell_type": "code",
   "execution_count": null,
   "id": "a1b1d5a4",
   "metadata": {},
   "outputs": [],
   "source": [
    "np.shape( initial_AWT )"
   ]
  },
  {
   "cell_type": "code",
   "execution_count": null,
   "id": "12c7d011",
   "metadata": {},
   "outputs": [],
   "source": [
    "best_AWT = []\n",
    "for i in range(len(best_tree_index)):\n",
    "    index = best_tree_index[i]\n",
    "    best_AWT.append( list_AWT[index] )"
   ]
  },
  {
   "cell_type": "code",
   "execution_count": null,
   "id": "02ce5cc5",
   "metadata": {},
   "outputs": [],
   "source": [
    "best_AWT_savetime = []\n",
    "best_AWT_savetime_rate = []\n",
    "for i in range(len(best_tree_index)):\n",
    "    best_AWT_savetime.append( np.mean( initial_AWT[i] - np.mean( best_AWT[i] ) ) )\n",
    "    best_AWT_savetime_rate.append( ( np.mean( initial_AWT[i] - np.mean( best_AWT[i] )  ))/np.mean( initial_AWT[i] ) )"
   ]
  },
  {
   "cell_type": "code",
   "execution_count": null,
   "id": "cef59ced",
   "metadata": {},
   "outputs": [],
   "source": [
    "sns.distplot(np.array( best_AWT_savetime ),color=\"black\")"
   ]
  },
  {
   "cell_type": "code",
   "execution_count": null,
   "id": "5dee6951",
   "metadata": {},
   "outputs": [],
   "source": [
    "sns.distplot(np.array( best_AWT_savetime_rate ),color=\"black\")"
   ]
  },
  {
   "cell_type": "code",
   "execution_count": null,
   "id": "f991342e",
   "metadata": {},
   "outputs": [],
   "source": [
    "kwargs = {'cumulative': True}\n",
    "sns.distplot(np.array( best_AWT_savetime ), hist_kws=kwargs, kde_kws=kwargs,color = 'black')"
   ]
  },
  {
   "cell_type": "code",
   "execution_count": null,
   "id": "fdee0ed4",
   "metadata": {},
   "outputs": [],
   "source": [
    "kwargs = {'cumulative': True}\n",
    "sns.distplot(np.array( best_AWT_savetime_rate ), hist_kws=kwargs, kde_kws=kwargs,color = 'black')"
   ]
  },
  {
   "cell_type": "code",
   "execution_count": null,
   "id": "1f47578d",
   "metadata": {},
   "outputs": [],
   "source": [
    "df = len(np.array( best_AWT_savetime )) - 1\n",
    "alpha= 0.05\n",
    "ci = stats.t.interval(alpha, df, loc=np.mean(np.array( best_AWT_savetime )), scale=stats.sem(np.array( best_AWT_savetime ))) \n",
    "ci # 90% in ci"
   ]
  },
  {
   "cell_type": "code",
   "execution_count": null,
   "id": "07bfdf3a",
   "metadata": {},
   "outputs": [],
   "source": [
    "df = len(np.array( best_AWT_savetime_rate )) - 1\n",
    "alpha= 0.05\n",
    "ci = stats.t.interval(alpha, df, loc=np.mean(np.array( best_AWT_savetime_rate )), scale=stats.sem(np.array( best_AWT_savetime_rate ))) \n",
    "ci # 90% in ci"
   ]
  },
  {
   "cell_type": "markdown",
   "id": "a6ddabf6",
   "metadata": {},
   "source": [
    "### 3.1 Pearson correlation and P-value"
   ]
  },
  {
   "cell_type": "code",
   "execution_count": null,
   "id": "d4b57612",
   "metadata": {},
   "outputs": [],
   "source": [
    "plt.scatter( save_time_rate,best_AWT_savetime_rate )"
   ]
  },
  {
   "cell_type": "markdown",
   "id": "8035db3c",
   "metadata": {},
   "source": [
    "H_0: no Correlation，\n",
    "H_1: has Correlation."
   ]
  },
  {
   "cell_type": "code",
   "execution_count": null,
   "id": "122818f8",
   "metadata": {},
   "outputs": [],
   "source": [
    "from scipy import stats\n",
    "r, p=stats.pearsonr(save_time_rate,best_AWT_savetime_rate)"
   ]
  },
  {
   "cell_type": "code",
   "execution_count": null,
   "id": "6400dcd8",
   "metadata": {},
   "outputs": [],
   "source": [
    "p # 0.7720569973447443 > 0.05, accept H_0"
   ]
  },
  {
   "cell_type": "code",
   "execution_count": null,
   "id": "434a127a",
   "metadata": {},
   "outputs": [],
   "source": [
    "r"
   ]
  },
  {
   "cell_type": "markdown",
   "id": "01a7fc50",
   "metadata": {},
   "source": [
    "### 3.2 Spearman"
   ]
  },
  {
   "cell_type": "code",
   "execution_count": null,
   "id": "0e8cf75b",
   "metadata": {},
   "outputs": [],
   "source": [
    "r_s,p_s = stats.spearmanr(save_time_rate, best_AWT_savetime_rate)"
   ]
  },
  {
   "cell_type": "code",
   "execution_count": null,
   "id": "bab11292",
   "metadata": {},
   "outputs": [],
   "source": [
    "p_s"
   ]
  },
  {
   "cell_type": "code",
   "execution_count": null,
   "id": "79367531",
   "metadata": {},
   "outputs": [],
   "source": [
    "r_s"
   ]
  },
  {
   "cell_type": "markdown",
   "id": "0737a093",
   "metadata": {},
   "source": [
    "### 3.3 Kendall"
   ]
  },
  {
   "cell_type": "code",
   "execution_count": null,
   "id": "b7f602ac",
   "metadata": {},
   "outputs": [],
   "source": [
    "r_k,p_k = stats.kendalltau(save_time_rate, best_AWT_savetime_rate)"
   ]
  },
  {
   "cell_type": "code",
   "execution_count": null,
   "id": "cf56f831",
   "metadata": {},
   "outputs": [],
   "source": [
    "p_k"
   ]
  },
  {
   "cell_type": "code",
   "execution_count": null,
   "id": "8b25e3ac",
   "metadata": {},
   "outputs": [],
   "source": [
    "r_k"
   ]
  },
  {
   "cell_type": "code",
   "execution_count": null,
   "id": "d1df9a06",
   "metadata": {},
   "outputs": [],
   "source": []
  },
  {
   "cell_type": "code",
   "execution_count": null,
   "id": "75cf1e38",
   "metadata": {},
   "outputs": [],
   "source": []
  }
 ],
 "metadata": {
  "kernelspec": {
   "display_name": "Python 3 (ipykernel)",
   "language": "python",
   "name": "python3"
  },
  "language_info": {
   "codemirror_mode": {
    "name": "ipython",
    "version": 3
   },
   "file_extension": ".py",
   "mimetype": "text/x-python",
   "name": "python",
   "nbconvert_exporter": "python",
   "pygments_lexer": "ipython3",
   "version": "3.9.13"
  }
 },
 "nbformat": 4,
 "nbformat_minor": 5
}
